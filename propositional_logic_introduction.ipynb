{
 "cells": [
  {
   "cell_type": "markdown",
   "id": "46c2aaae",
   "metadata": {},
   "source": [
    "**Table of contents**\n",
    "\n",
    "- [Propositional logic](#propositional-logic-an-introduction)\n",
    "    - [Truth tables](#truth-tables)  \n",
    "    - [Knowledge base (KB)](#knowledge-base-kb)\n",
    "        - [Entailment](#entailment)\n",
    "        - [Satisfiability](#satisfiability)\n",
    "    - [Inference: model checking](#inference-model-checking)\n",
    "        - [Model checking: properties](#model-checking-properties)\n",
    "- [Symbolic maths `sympy`](#symbolic-maths-sympy)\n",
    "    - [Symbolic variables](#symbolic-variables)\n",
    "    - [Some examples of symbolic math](#some-examples-of-symbolic-math)\n",
    "    - [`sympy` and logic operators](#sympy-and-logic-operators)\n",
    "    - [Truth tables in `sympy`](#truth-tables-in-sympy)\n",
    "- [Model checking: using `sympy`](#model-checking-using-sympy)\n",
    "- [Normal forms for logical expressions](#normal-forms-for-logical-expressions)\n",
    "    - [De Morgan's law](#de-morgans-law) \n",
    "    - [Conjunctive normal form (CNF)](#conjunctive-normal-form-cnf) \n",
    "    - [Negation normal form (NNF)](#negation-normal-form-nnf)\n",
    "    - [CNF and NNF using `sympy`](#cnf-and-nnf-using-sympy)\n",
    "- [Inference with propositional logic](#inference-with-propositional-logic)\n",
    "    - [Main inference rules](#main-inference-rules)\n",
    "    - [Inference by resolution](#inference-by-resolution)\n",
    "    - [Horn clauses](#horn-clauses)\n",
    "    - [How to manage KB in `sympy`](#how-to-manage-kb-in-sympy)\n",
    "    - [Forward chaining](#forward-chaining)  \n",
    "    - [Backward chaining](#backward-chaining)  \n",
    "- [External references](#external-references)"
   ]
  },
  {
   "cell_type": "markdown",
   "id": "684954a8",
   "metadata": {},
   "source": [
    "# Propositional logic: an introduction\n",
    "\n",
    "Logic is the formal study of valid reasoning. It deals with the rules that govern how propositions (statements) can be combined to deduce correct conclusions from given premises.\n",
    "\n",
    "In AI, logic is used to represent knowledge and draw inferences, especially in symbolic systems such as automated reasoning or inference engines.\n",
    "\n",
    "Many logic implementation exists, such as:\n",
    "* Boolean logic\n",
    "* Fuzzy logic\n",
    "* Propositional logic (that we will discuss here)\n",
    "* Predicative logic (Prolog)\n",
    "\n",
    "The main characters of the propositional logic are *atomic sentences* and *complex sentences*. The atomic sentences are that kind of expressions that express just a truth, so their state could be **true** or **false**. We could have $N$ atomic sentences that express a fact. Then, we can combine two or more atomic sentences in order to get a **complex sentences**, the operators that we have to combine theese sentences are listed below:\n",
    "\n",
    "* **AND** \"$\\wedge$\": the sentence is true only if both atomic sentences are true\n",
    "* **OR** \"$\\vee$\": the sentence is true if at least one atomic sentence is true\n",
    "* **NOT** \"$\\neg$\": this operator negate the state, for instance, if $P=True$, then $\\neg P=False$, and viceversa\n",
    "* **IMPLIES** \"$\\Rightarrow$\": given $P \\Rightarrow Q$, this operator return true, if $P=True$ and $Q=False$\n",
    "* **IF AND ONLY IF (bidirectional)** \"$\\Leftrightarrow$\": bidirectional implication, return true, if both atomic sentences have the same state\n",
    "\n",
    "## Truth tables\n",
    "\n",
    "Like the *boolean logic*, also the operators of the propositional logic have their truth tables, actually also boolean logic is a sort of propositional logic.\n",
    "\n",
    "Just to remind, the truth table is a tool that describe the output result for any possible combination of input for a specific logical operator.\n",
    "\n",
    "[**CONJUCTION** (`AND`)]\n",
    "\n",
    "| $P$ | $Q$ | $P \\wedge Q$ |\n",
    "|:-:|:-:|:-:|\n",
    "| `true` | `true` | `true` |\n",
    "| `true` | `false` | `false` |\n",
    "| `false` | `true` | `false` |\n",
    "| `false` | `false` | `false` |\n",
    "\n",
    "[**DISJUNCTION** (`OR`)]\n",
    "\n",
    "| $P$ | $Q$ | $P \\vee Q$ |\n",
    "|:-:|:-:|:-:|\n",
    "| `true` | `true` | `true` |\n",
    "| `true` | `false` | `true` |\n",
    "| `false` | `true` | `true` |\n",
    "| `false` | `false` | `false` |\n",
    "\n",
    "[**NEGATION** (`NOT`)]\n",
    "\n",
    "| $P$ | $\\neg P$ |\n",
    "|:-:|:-:|\n",
    "| `true` | `false` |\n",
    "| `false` | `true` |\n",
    "\n",
    "[**IMPLICATION** (`IMPLIES`)]\n",
    "\n",
    "| $P$ | $Q$ | $P \\Rightarrow Q$ |\n",
    "|:-:|:-:|:-:|\n",
    "| `true` | `true` | `true` |\n",
    "| `true` | `false` | `false` |\n",
    "| `false` | `true` | `true` |\n",
    "| `false` | `false` | `true` |\n",
    "\n",
    "[**BIDIRECTIONAL** (`IF AND ONLY IF`)]\n",
    "\n",
    "| $P$ | $Q$ | $P \\Leftrightarrow Q$ |\n",
    "|:-:|:-:|:-:|\n",
    "| `true` | `true` | `true` |\n",
    "| `true` | `false` | `false` |\n",
    "| `false` | `true` | `false` |\n",
    "| `false` | `false` | `true` |\n",
    "\n",
    "## Knowledge base (KB)\n",
    "\n",
    "The knownledge base is a concept not strictly correlated to propositional logic, is a more general concept in logic fields and also propositional logic use it. Basically, the knowledge base, usually denoted with **KB**, is a set of sentences that define the rules of the environment, to be clear is a set that contains all sentences that the agent knows to be true. The KB is essential to apply inference on our sentences, the whole inferential process is based on KB, without it we would not able to get a conclusion starting from two sentences.\n",
    "\n",
    "An example:\n",
    "\n",
    "```bash\n",
    "# Our atomic sentences\n",
    "P = is a student?\n",
    "Q = can access to the library!\n",
    "\n",
    "# Our KB contains only one rule, IF P IS A STUDENT (P=True) THEN P CAN ACCESS TO THE LIBRARY (Q=True)\n",
    "KB = {P -> Q}\n",
    "```\n",
    "\n",
    "From the the KB we know that all students can access to the library!\n",
    "\n",
    "\n",
    "### Entailment\n",
    "\n",
    "In propositional logic, entailment (or logical consequence), denoted by $\\models$, is a fundamental relationship between a set of premises and a conclusion. A conclusion is a logical consequence of a set of premises if whenever the premises are true, the conclusion must also be true.\n",
    "\n",
    "Formally:\n",
    "\n",
    "$$\n",
    "\\alpha \\models \\beta\n",
    "$$\n",
    "\n",
    "This means there is no possible situation where all premises $\\alpha$ are true and $\\beta$ is false simultanesly. The truth of the premises gurantees the truth of the conclusion.\n",
    "\n",
    "### Satisfiability\n",
    "\n",
    "In propositional logic, a formula is satisfiable if there exists at least one truth assignment to its variables that makes the formula true.\n",
    "In other words, a formula is satisfiable if it can be true in at least one model.\n",
    "\n",
    "For example,\n",
    "\n",
    "$P \\vee Q$\n",
    "\n",
    "is a satisfiable query, because it is true whenever at least on of $P$ or $Q$ is true.\n",
    "\n",
    "Instead,\n",
    "\n",
    "$ P \\wedge \\neg P $\n",
    "\n",
    "is not satisfiable, beacause cannot exist a model where $P$ is simoultaniesly true and false.\n"
   ]
  },
  {
   "cell_type": "code",
   "execution_count": 1,
   "id": "e8c0198a",
   "metadata": {},
   "outputs": [
    {
     "name": "stdout",
     "output_type": "stream",
     "text": [
      "P ∨ Q: {Q: True, P: True}\n",
      "P ∧ ¬P: False\n"
     ]
    }
   ],
   "source": [
    "from sympy.logic import satisfiable, And, Or, Not\n",
    "from sympy import symbols\n",
    "\n",
    "P, Q = symbols('P, Q')\n",
    "\n",
    "expression_1 = Or(P, Q)            # satisfiable expression\n",
    "expression_2 = And(P, Not(P))      # not satisfiable expression\n",
    "\n",
    "# Output\n",
    "print(f\"P ∨ Q: {satisfiable(expression_1)}\")\n",
    "print(f\"P ∧ ¬P: {satisfiable(expression_2)}\")"
   ]
  },
  {
   "cell_type": "markdown",
   "id": "4f0c86f3",
   "metadata": {},
   "source": [
    "## Inference: model checking\n",
    "\n",
    "Inference denotes the process of deriving new statements (or conclusions) from existing ones. AI agents can use an inference algorithm to determine whether a given query sentence $\\alpha$ is true or false.\n",
    "\n",
    "An example\n",
    "\n",
    "```bash\n",
    "# Atomic sentences\n",
    "P: it is a Tuesday\n",
    "Q: It is raining\n",
    "\n",
    "# The sentence that we wanna infer\n",
    "R: Harry will go for a run\n",
    "\n",
    "# Knowledge base: If is Tuesday and is NOT Raining, then R is True (Harry will go for a run)\n",
    "KB: (P AND NOT(Q)) -> R\n",
    "```\n",
    "\n",
    "To infer $R$, we need to use an inference algorithm that answers the central question of entailment. Given a query sentence $\\alpha$ about the world, does $KB \\models \\alpha$? In other words, 'Can we conclude that sentence $\\alpha$ is true based solely on the information in our KB?\n",
    "\n",
    "There are many algorithm to do this, the most simple is **model checking**, that appplies the following steps:\n",
    "\n",
    "1. Enumerate all possible models for sentences $KB \\cup \\{\\alpha\\}$\n",
    "1. Check if $\\alpha$ is true in every model in which $KB$ is true\n",
    "    - If so, $KB \\models \\alpha$\n",
    "    - Otherwise, $KB$ does not entail $\\alpha$\n",
    "\n",
    "To proceed, we have to implement the truth tables"
   ]
  },
  {
   "cell_type": "markdown",
   "id": "0a8e99f4",
   "metadata": {},
   "source": [
    "<table style=\"border-collapse:collapse;border-color:#93a1a1;border-spacing:0\" class=\"tg\"><thead><tr><th style=\"background-color:#657b83;border-color:inherit;border-style:solid;border-width:1px;color:#343434;font-family:Arial, sans-serif;font-size:14px;font-weight:bold;overflow:hidden;padding:10px 5px;text-align:center;vertical-align:top;word-break:normal\" colspan=\"3\">Atomic sentences</th><th style=\"background-color:#657b83;border-color:inherit;border-style:solid;border-width:1px;color:#343434;font-family:Arial, sans-serif;font-size:14px;font-weight:bold;overflow:hidden;padding:10px 5px;text-align:center;vertical-align:top;word-break:normal\" colspan=\"3\">Premises</th><th style=\"background-color:#657b83;border-color:inherit;border-style:solid;border-width:1px;color:#343434;font-family:Arial, sans-serif;font-size:14px;font-weight:bold;overflow:hidden;padding:10px 5px;text-align:center;vertical-align:top;word-break:normal\">Conclusion</th></tr></thead>\n",
    "<tbody>\n",
    "<tr><td style=\"background-color:#eee8d5;border-color:inherit;border-style:solid;border-width:1px;color:#002b36;font-family:Arial, sans-serif;font-size:14px;overflow:hidden;padding:10px 5px;text-align:center;vertical-align:top;word-break:normal\">P</td><td style=\"background-color:#eee8d5;border-color:inherit;border-style:solid;border-width:1px;color:#002b36;font-family:Arial, sans-serif;font-size:14px;overflow:hidden;padding:10px 5px;text-align:center;vertical-align:top;word-break:normal\">Q</td><td style=\"background-color:#eee8d5;border-color:inherit;border-style:solid;border-width:1px;color:#002b36;font-family:Arial, sans-serif;font-size:14px;overflow:hidden;padding:10px 5px;text-align:center;vertical-align:top;word-break:normal\">R</td>\n",
    "<td style=\"background-color:#eee8d5;border-color:inherit;border-style:solid;border-width:1px;color:#002b36;font-family:Arial, sans-serif;font-size:14px;overflow:hidden;padding:10px 5px;text-align:center;vertical-align:top;word-break:normal\">P<span style=\"font-style:normal\">∨</span>Q</td><td style=\"background-color:#eee8d5;border-color:inherit;border-style:solid;border-width:1px;color:#002b36;font-family:Arial, sans-serif;font-size:14px;font-style:italic;overflow:hidden;padding:10px 5px;text-align:center;vertical-align:top;word-break:normal\"><span style=\"font-weight:400;font-style:normal\">P</span><span style=\"font-weight:700;font-style:normal\">⇒</span><span style=\"font-style:normal\">Q</span></td><td style=\"background-color:#eee8d5;border-color:inherit;border-style:solid;border-width:1px;color:#002b36;font-family:Arial, sans-serif;font-size:14px;overflow:hidden;padding:10px 5px;text-align:center;vertical-align:top;word-break:normal\">Q<span style=\"font-weight:700\">⇒</span>R</td>\n",
    "<td style=\"background-color:#eee8d5;border-color:inherit;border-style:solid;border-width:1px;color:#002b36;font-family:Arial, sans-serif;font-size:14px;overflow:hidden;padding:10px 5px;text-align:center;vertical-align:top;word-break:normal\"><span style=\"font-weight:400;font-style:normal\">P</span>∨R</td></tr>\n",
    "<tr><td style=\"background-color:#fdf6e3;border-color:inherit;border-style:solid;border-width:1px;color:#343434;font-family:\"Courier New\", Courier, monospace !important;font-size:14px;overflow:hidden;padding:10px 5px;text-align:center;vertical-align:top;word-break:normal\">false</td><td style=\"background-color:#fdf6e3;border-color:inherit;border-style:solid;border-width:1px;color:#343434;font-family:\"Courier New\", Courier, monospace !important;font-size:14px;overflow:hidden;padding:10px 5px;text-align:center;vertical-align:top;word-break:normal\">false</td><td style=\"background-color:#fdf6e3;border-color:inherit;border-style:solid;border-width:1px;color:#343434;font-family:\"Courier New\", Courier, monospace !important;font-size:14px;overflow:hidden;padding:10px 5px;text-align:center;vertical-align:top;word-break:normal\">false</td>\n",
    "<td style=\"background-color:#fdf6e3;border-color:inherit;border-style:solid;border-width:1px;color:#343434;font-family:\"Courier New\", Courier, monospace !important;font-size:14px;overflow:hidden;padding:10px 5px;text-align:center;vertical-align:top;word-break:normal\">false</td><td style=\"background-color:#fdf6e3;border-color:inherit;border-style:solid;border-width:1px;color:#343434;font-family:\"Courier New\", Courier, monospace !important;font-size:14px;overflow:hidden;padding:10px 5px;text-align:center;vertical-align:top;word-break:normal\">true</td><td style=\"background-color:#fdf6e3;border-color:inherit;border-style:solid;border-width:1px;color:#343434;font-family:\"Courier New\", Courier, monospace !important;font-size:14px;overflow:hidden;padding:10px 5px;text-align:center;vertical-align:top;word-break:normal\">true</td>\n",
    "<td style=\"background-color:#fdf6e3;border-color:inherit;border-style:solid;border-width:1px;color:#343434;font-family:\"Courier New\", Courier, monospace !important;font-size:14px;overflow:hidden;padding:10px 5px;text-align:center;vertical-align:top;word-break:normal\">false</td></tr>\n",
    "<tr><td style=\"background-color:#fdf6e3;border-color:inherit;border-style:solid;border-width:1px;color:#343434;font-family:\"Courier New\", Courier, monospace !important;font-size:14px;overflow:hidden;padding:10px 5px;text-align:center;vertical-align:top;word-break:normal\">false</td><td style=\"background-color:#fdf6e3;border-color:inherit;border-style:solid;border-width:1px;color:#343434;font-family:\"Courier New\", Courier, monospace !important;font-size:14px;overflow:hidden;padding:10px 5px;text-align:center;vertical-align:top;word-break:normal\">false</td><td style=\"background-color:#fdf6e3;border-color:inherit;border-style:solid;border-width:1px;color:#343434;font-family:\"Courier New\", Courier, monospace !important;font-size:14px;overflow:hidden;padding:10px 5px;text-align:center;vertical-align:top;word-break:normal\">true</td>\n",
    "<td style=\"background-color:#fdf6e3;border-color:inherit;border-style:solid;border-width:1px;color:#343434;font-family:\"Courier New\", Courier, monospace !important;font-size:14px;overflow:hidden;padding:10px 5px;text-align:center;vertical-align:top;word-break:normal\">false</td><td style=\"background-color:#fdf6e3;border-color:inherit;border-style:solid;border-width:1px;color:#343434;font-family:\"Courier New\", Courier, monospace !important;font-size:14px;overflow:hidden;padding:10px 5px;text-align:center;vertical-align:top;word-break:normal\">true</td><td style=\"background-color:#fdf6e3;border-color:inherit;border-style:solid;border-width:1px;color:#343434;font-family:\"Courier New\", Courier, monospace !important;font-size:14px;overflow:hidden;padding:10px 5px;text-align:center;vertical-align:top;word-break:normal\">true</td>\n",
    "<td style=\"background-color:#fdf6e3;border-color:inherit;border-style:solid;border-width:1px;color:#343434;font-family:\"Courier New\", Courier, monospace !important;font-size:14px;overflow:hidden;padding:10px 5px;text-align:center;vertical-align:top;word-break:normal\">true</td></tr>\n",
    "<tr><td style=\"background-color:#fdf6e3;border-color:inherit;border-style:solid;border-width:1px;color:#343434;font-family:\"Courier New\", Courier, monospace !important;font-size:14px;overflow:hidden;padding:10px 5px;text-align:center;vertical-align:top;word-break:normal\">false</td><td style=\"background-color:#fdf6e3;border-color:inherit;border-style:solid;border-width:1px;color:#343434;font-family:\"Courier New\", Courier, monospace !important;font-size:14px;overflow:hidden;padding:10px 5px;text-align:center;vertical-align:top;word-break:normal\">true</td><td style=\"background-color:#fdf6e3;border-color:inherit;border-style:solid;border-width:1px;color:#343434;font-family:\"Courier New\", Courier, monospace !important;font-size:14px;overflow:hidden;padding:10px 5px;text-align:center;vertical-align:top;word-break:normal\">false</td>\n",
    "<td style=\"background-color:#fdf6e3;border-color:inherit;border-style:solid;border-width:1px;color:#343434;font-family:\"Courier New\", Courier, monospace !important;font-size:14px;overflow:hidden;padding:10px 5px;text-align:center;vertical-align:top;word-break:normal\">true</td><td style=\"background-color:#fdf6e3;border-color:inherit;border-style:solid;border-width:1px;color:#343434;font-family:\"Courier New\", Courier, monospace !important;font-size:14px;overflow:hidden;padding:10px 5px;text-align:center;vertical-align:top;word-break:normal\">true</td><td style=\"background-color:#fdf6e3;border-color:inherit;border-style:solid;border-width:1px;color:#343434;font-family:\"Courier New\", Courier, monospace !important;font-size:14px;overflow:hidden;padding:10px 5px;text-align:center;vertical-align:top;word-break:normal\">false</td>\n",
    "<td style=\"background-color:#fdf6e3;border-color:inherit;border-style:solid;border-width:1px;color:#343434;font-family:\"Courier New\", Courier, monospace !important;font-size:14px;overflow:hidden;padding:10px 5px;text-align:center;vertical-align:top;word-break:normal\">false</td></tr>\n",
    "<tr><td style=\"background-color:#ffcc67;border-color:inherit;border-style:solid;border-width:1px;color:#343434;font-family:\"Courier New\", Courier, monospace !important;font-size:14px;overflow:hidden;padding:10px 5px;text-align:center;vertical-align:top;word-break:normal\">false</td><td style=\"background-color:#ffcc67;border-color:inherit;border-style:solid;border-width:1px;color:#343434;font-family:\"Courier New\", Courier, monospace !important;font-size:14px;overflow:hidden;padding:10px 5px;text-align:center;vertical-align:top;word-break:normal\">true</td><td style=\"background-color:#ffcc67;border-color:inherit;border-style:solid;border-width:1px;color:#343434;font-family:\"Courier New\", Courier, monospace !important;font-size:14px;overflow:hidden;padding:10px 5px;text-align:center;vertical-align:top;word-break:normal\">true</td>\n",
    "<td style=\"background-color:#ffcc67;border-color:inherit;border-style:solid;border-width:1px;color:#343434;font-family:\"Courier New\", Courier, monospace !important;font-size:14px;overflow:hidden;padding:10px 5px;text-align:center;vertical-align:top;word-break:normal\">true</td><td style=\"background-color:#ffcc67;border-color:inherit;border-style:solid;border-width:1px;color:#343434;font-family:\"Courier New\", Courier, monospace !important;font-size:14px;overflow:hidden;padding:10px 5px;text-align:center;vertical-align:top;word-break:normal\">true</td><td style=\"background-color:#ffcc67;border-color:inherit;border-style:solid;border-width:1px;color:#343434;font-family:\"Courier New\", Courier, monospace !important;font-size:14px;overflow:hidden;padding:10px 5px;text-align:center;vertical-align:top;word-break:normal\">true</td>\n",
    "<td style=\"background-color:#ffcc67;border-color:inherit;border-style:solid;border-width:1px;color:#343434;font-family:\"Courier New\", Courier, monospace !important;font-size:14px;overflow:hidden;padding:10px 5px;text-align:center;vertical-align:top;word-break:normal\">true</td></tr>\n",
    "<tr><td style=\"background-color:#fdf6e3;border-color:inherit;border-style:solid;border-width:1px;color:#343434;font-family:\"Courier New\", Courier, monospace !important;font-size:14px;overflow:hidden;padding:10px 5px;text-align:center;vertical-align:top;word-break:normal\">true</td><td style=\"background-color:#fdf6e3;border-color:inherit;border-style:solid;border-width:1px;color:#343434;font-family:\"Courier New\", Courier, monospace !important;font-size:14px;overflow:hidden;padding:10px 5px;text-align:center;vertical-align:top;word-break:normal\">false</td><td style=\"background-color:#fdf6e3;border-color:inherit;border-style:solid;border-width:1px;color:#343434;font-family:\"Courier New\", Courier, monospace !important;font-size:14px;overflow:hidden;padding:10px 5px;text-align:center;vertical-align:top;word-break:normal\">false</td>\n",
    "<td style=\"background-color:#fdf6e3;border-color:inherit;border-style:solid;border-width:1px;color:#343434;font-family:\"Courier New\", Courier, monospace !important;font-size:14px;overflow:hidden;padding:10px 5px;text-align:center;vertical-align:top;word-break:normal\">true</td><td style=\"background-color:#fdf6e3;border-color:inherit;border-style:solid;border-width:1px;color:#343434;font-family:\"Courier New\", Courier, monospace !important;font-size:14px;overflow:hidden;padding:10px 5px;text-align:center;vertical-align:top;word-break:normal\">false</td><td style=\"background-color:#fdf6e3;border-color:inherit;border-style:solid;border-width:1px;color:#343434;font-family:\"Courier New\", Courier, monospace !important;font-size:14px;overflow:hidden;padding:10px 5px;text-align:center;vertical-align:top;word-break:normal\">true</td>\n",
    "<td style=\"background-color:#fdf6e3;border-color:inherit;border-style:solid;border-width:1px;color:#343434;font-family:\"Courier New\", Courier, monospace !important;font-size:14px;overflow:hidden;padding:10px 5px;text-align:center;vertical-align:top;word-break:normal\">true</td></tr>\n",
    "<tr><td style=\"background-color:#ffcc67;border-color:inherit;border-style:solid;border-width:1px;color:#343434;font-family:\"Courier New\", Courier, monospace !important;font-size:14px;overflow:hidden;padding:10px 5px;text-align:center;vertical-align:top;word-break:normal\">true</td><td style=\"background-color:#ffcc67;border-color:inherit;border-style:solid;border-width:1px;color:#343434;font-family:\"Courier New\", Courier, monospace !important;font-size:14px;overflow:hidden;padding:10px 5px;text-align:center;vertical-align:top;word-break:normal\">false</td><td style=\"background-color:#ffcc67;border-color:inherit;border-style:solid;border-width:1px;color:#343434;font-family:\"Courier New\", Courier, monospace !important;font-size:14px;overflow:hidden;padding:10px 5px;text-align:center;vertical-align:top;word-break:normal\">true</td>\n",
    "<td style=\"background-color:#ffcc67;border-color:inherit;border-style:solid;border-width:1px;color:#343434;font-family:\"Courier New\", Courier, monospace !important;font-size:14px;overflow:hidden;padding:10px 5px;text-align:center;vertical-align:top;word-break:normal\">true</td><td style=\"background-color:#ffcc67;border-color:inherit;border-style:solid;border-width:1px;color:#343434;font-family:\"Courier New\", Courier, monospace !important;font-size:14px;overflow:hidden;padding:10px 5px;text-align:center;vertical-align:top;word-break:normal\">true</td><td style=\"background-color:#ffcc67;border-color:inherit;border-style:solid;border-width:1px;color:#343434;font-family:\"Courier New\", Courier, monospace !important;font-size:14px;overflow:hidden;padding:10px 5px;text-align:center;vertical-align:top;word-break:normal\">true</td>\n",
    "<td style=\"background-color:#ffcc67;border-color:inherit;border-style:solid;border-width:1px;color:#343434;font-family:\"Courier New\", Courier, monospace !important;font-size:14px;overflow:hidden;padding:10px 5px;text-align:center;vertical-align:top;word-break:normal\">true</td></tr>\n",
    "<tr><td style=\"background-color:#fdf6e3;border-color:inherit;border-style:solid;border-width:1px;color:#343434;font-family:\"Courier New\", Courier, monospace !important;font-size:14px;overflow:hidden;padding:10px 5px;text-align:center;vertical-align:top;word-break:normal\">true</td><td style=\"background-color:#fdf6e3;border-color:inherit;border-style:solid;border-width:1px;color:#343434;font-family:\"Courier New\", Courier, monospace !important;font-size:14px;overflow:hidden;padding:10px 5px;text-align:center;vertical-align:top;word-break:normal\">true</td><td style=\"background-color:#fdf6e3;border-color:inherit;border-style:solid;border-width:1px;color:#343434;font-family:\"Courier New\", Courier, monospace !important;font-size:14px;overflow:hidden;padding:10px 5px;text-align:center;vertical-align:top;word-break:normal\">false</td>\n",
    "<td style=\"background-color:#fdf6e3;border-color:inherit;border-style:solid;border-width:1px;color:#343434;font-family:\"Courier New\", Courier, monospace !important;font-size:14px;overflow:hidden;padding:10px 5px;text-align:center;vertical-align:top;word-break:normal\">true</td><td style=\"background-color:#fdf6e3;border-color:inherit;border-style:solid;border-width:1px;color:#343434;font-family:\"Courier New\", Courier, monospace !important;font-size:14px;overflow:hidden;padding:10px 5px;text-align:center;vertical-align:top;word-break:normal\">false</td><td style=\"background-color:#fdf6e3;border-color:inherit;border-style:solid;border-width:1px;color:#343434;font-family:\"Courier New\", Courier, monospace !important;font-size:14px;overflow:hidden;padding:10px 5px;text-align:center;vertical-align:top;word-break:normal\">false</td>\n",
    "<td style=\"background-color:#fdf6e3;border-color:inherit;border-style:solid;border-width:1px;color:#343434;font-family:\"Courier New\", Courier, monospace !important;font-size:14px;overflow:hidden;padding:10px 5px;text-align:center;vertical-align:top;word-break:normal\">true</td></tr>\n",
    "<tr><td style=\"background-color:#ffcc67;border-color:inherit;border-style:solid;border-width:1px;color:#343434;font-family:\"Courier New\", Courier, monospace !important;font-size:14px;overflow:hidden;padding:10px 5px;text-align:center;vertical-align:top;word-break:normal\">true</td><td style=\"background-color:#ffcc67;border-color:inherit;border-style:solid;border-width:1px;color:#343434;font-family:\"Courier New\", Courier, monospace !important;font-size:14px;overflow:hidden;padding:10px 5px;text-align:center;vertical-align:top;word-break:normal\">true</td><td style=\"background-color:#ffcc67;border-color:inherit;border-style:solid;border-width:1px;color:#343434;font-family:\"Courier New\", Courier, monospace !important;font-size:14px;overflow:hidden;padding:10px 5px;text-align:center;vertical-align:top;word-break:normal\">true</td>\n",
    "<td style=\"background-color:#ffcc67;border-color:inherit;border-style:solid;border-width:1px;color:#343434;font-family:\"Courier New\", Courier, monospace !important;font-size:14px;overflow:hidden;padding:10px 5px;text-align:center;vertical-align:top;word-break:normal\">true</td><td style=\"background-color:#ffcc67;border-color:inherit;border-style:solid;border-width:1px;color:#343434;font-family:\"Courier New\", Courier, monospace !important;font-size:14px;overflow:hidden;padding:10px 5px;text-align:center;vertical-align:top;word-break:normal\">true</td><td style=\"background-color:#ffcc67;border-color:inherit;border-style:solid;border-width:1px;color:#343434;font-family:\"Courier New\", Courier, monospace !important;font-size:14px;overflow:hidden;padding:10px 5px;text-align:center;vertical-align:top;word-break:normal\">true</td>\n",
    "<td style=\"background-color:#ffcc67;border-color:inherit;border-style:solid;border-width:1px;color:#343434;font-family:\"Courier New\", Courier, monospace !important;font-size:14px;overflow:hidden;padding:10px 5px;text-align:center;vertical-align:top;word-break:normal\">true</td></tr>\n",
    "</tbody></table>"
   ]
  },
  {
   "cell_type": "markdown",
   "id": "c36a67d2",
   "metadata": {},
   "source": [
    "The truth table suggest us that  $KB \\models \\alpha$, because as you can see, the conclusion is `true` in every model in which the premises are `true` (the orange highlighted rows)\n",
    "\n",
    "### Model checking: properties\n",
    "\n",
    "* **Soundness**: It directly implements the definition of entailment\n",
    "* **Completeness**: It works for any (finite) $KB$ and $\\alpha$, and the corresponding set of models is finite\n",
    "* **Complexity**: $O(n^2)$, where $n$ is the number of proposition symbols appearing in $KB$ and $\\alpha$. For this reason, this algorithm is infeasible when the number of proposition is high"
   ]
  },
  {
   "cell_type": "markdown",
   "id": "423e3084",
   "metadata": {},
   "source": [
    "# Symbolic maths (`sympy`)\n",
    "\n",
    "`SymPy` (Symbolic Python) is an open-source library for symbolic mathematics. Unlike numerical libraries such as `NumPy` or `SciPy`, `SymPy` works with symbolic expressions — as if it were a computer algebra system.\n",
    "\n",
    "Basically, in python we are not able to represent math symbols like this \"$\\sqrt(2)$\", so `sympy` solve this problem, and how we will see, we can use it also for propositional operators representation in a symbolic way.\n",
    "\n",
    "`sympy` offer a huge numbers of tools, but we are interest just to know the main aspects of this module."
   ]
  },
  {
   "cell_type": "markdown",
   "id": "31e27254",
   "metadata": {},
   "source": [
    "### Symbolic variables\n",
    "\n",
    "As suggested by the name, the symbolic math uses symbols, then we can consider the symbols the main entity in this context. Obviously `sympy` allow us to make symbols (variables). "
   ]
  },
  {
   "cell_type": "code",
   "execution_count": 2,
   "id": "12c4d383",
   "metadata": {},
   "outputs": [
    {
     "data": {
      "text/plain": [
       "'Symbol defined by the constructor'"
      ]
     },
     "metadata": {},
     "output_type": "display_data"
    },
    {
     "data": {
      "text/latex": [
       "$\\displaystyle A$"
      ],
      "text/plain": [
       "A"
      ]
     },
     "metadata": {},
     "output_type": "display_data"
    },
    {
     "data": {
      "text/plain": [
       "'Suymbols predefined by the module'"
      ]
     },
     "metadata": {},
     "output_type": "display_data"
    },
    {
     "data": {
      "text/latex": [
       "$\\displaystyle B$"
      ],
      "text/plain": [
       "B"
      ]
     },
     "metadata": {},
     "output_type": "display_data"
    },
    {
     "data": {
      "text/latex": [
       "$\\displaystyle Z$"
      ],
      "text/plain": [
       "Z"
      ]
     },
     "metadata": {},
     "output_type": "display_data"
    }
   ],
   "source": [
    "from sympy import symbols, abc\n",
    "\n",
    "# We can define a symbol using the constructor method symbols\n",
    "A = symbols(\"A\")\n",
    "display(\"Symbol defined by the constructor\",A)\n",
    "\n",
    "# But we can also use a set of predefined symbols importing abc from sympy\n",
    "B = abc.B\n",
    "Z = abc.Z\n",
    "display(\"Suymbols predefined by the module\",B,Z)\n"
   ]
  },
  {
   "cell_type": "markdown",
   "id": "1a8b76aa",
   "metadata": {},
   "source": [
    "### Some examples of symbolic math"
   ]
  },
  {
   "cell_type": "code",
   "execution_count": 3,
   "id": "6ddaa785",
   "metadata": {},
   "outputs": [
    {
     "data": {
      "text/latex": [
       "$\\displaystyle \\infty$"
      ],
      "text/plain": [
       "oo"
      ]
     },
     "metadata": {},
     "output_type": "display_data"
    },
    {
     "data": {
      "text/latex": [
       "$\\displaystyle \\pi$"
      ],
      "text/plain": [
       "pi"
      ]
     },
     "metadata": {},
     "output_type": "display_data"
    },
    {
     "data": {
      "text/latex": [
       "$\\displaystyle \\sqrt{x^{2}}$"
      ],
      "text/plain": [
       "sqrt(x**2)"
      ]
     },
     "metadata": {},
     "output_type": "display_data"
    }
   ],
   "source": [
    "from sympy import oo, pi, sqrt\n",
    "\n",
    "x = symbols('x')\n",
    "\n",
    "display(oo)\n",
    "display(pi)\n",
    "display(sqrt(x**2))"
   ]
  },
  {
   "cell_type": "markdown",
   "id": "d01f6798",
   "metadata": {},
   "source": [
    "This module is not just for visualization, indeed it provides us a large quantity of methods to solve our equations, in practice it offers set of tools in order to apply math operations using symbolic math. This make very comfortable some difficult computation using the classical numerical math, such as the derivates."
   ]
  },
  {
   "cell_type": "code",
   "execution_count": 4,
   "id": "0ccab90a",
   "metadata": {},
   "outputs": [
    {
     "name": "stdout",
     "output_type": "stream",
     "text": [
      "1. Derivative of f(x) = x^2 + 3x + 2 with respect to x:\n"
     ]
    },
    {
     "data": {
      "image/png": "[encoded data removed]",
      "text/latex": [
       "$\\displaystyle 2 x + 3$"
      ],
      "text/plain": [
       "2⋅x + 3"
      ]
     },
     "metadata": {},
     "output_type": "display_data"
    },
    {
     "name": "stdout",
     "output_type": "stream",
     "text": [
      "\n",
      "2. Square root of (x^2 + 1):\n"
     ]
    },
    {
     "data": {
      "image/png": "[encoded data removed]",
      "text/latex": [
       "$\\displaystyle \\sqrt{x^{2} + 1}$"
      ],
      "text/plain": [
       "   ________\n",
       "  ╱  2     \n",
       "╲╱  x  + 1 "
      ]
     },
     "metadata": {},
     "output_type": "display_data"
    },
    {
     "name": "stdout",
     "output_type": "stream",
     "text": [
      "\n",
      "3. Expansion of (x + 1)^2:\n"
     ]
    },
    {
     "data": {
      "image/png": "[encoded data removed]",
      "text/latex": [
       "$\\displaystyle x^{2} + 2 x + 1$"
      ],
      "text/plain": [
       " 2          \n",
       "x  + 2⋅x + 1"
      ]
     },
     "metadata": {},
     "output_type": "display_data"
    },
    {
     "name": "stdout",
     "output_type": "stream",
     "text": [
      "\n",
      "4. Simplification of (x^2 - 1)/(x - 1):\n"
     ]
    },
    {
     "data": {
      "image/png": "[encoded data removed]",
      "text/latex": [
       "$\\displaystyle x + 1$"
      ],
      "text/plain": [
       "x + 1"
      ]
     },
     "metadata": {},
     "output_type": "display_data"
    }
   ],
   "source": [
    "from sympy import symbols, diff, sqrt, expand, simplify, init_printing\n",
    "\n",
    "# Pretty printing for math expressions\n",
    "init_printing()\n",
    "\n",
    "# Define symbolic variables\n",
    "x, y = symbols('x y')\n",
    "\n",
    "# === 1. Derivative: diff ===\n",
    "# Compute the derivative of f(x) = x^2 + 3x + 2 with respect to x\n",
    "f = x**2 + 3*x + 2\n",
    "df_dx = diff(f, x)\n",
    "print(\"1. Derivative of f(x) = x^2 + 3x + 2 with respect to x:\")\n",
    "display(df_dx)\n",
    "print()\n",
    "\n",
    "# === 2. Square root: sqrt ===\n",
    "# Create an expression with a square root\n",
    "g = sqrt(x**2 + 1)\n",
    "print(\"2. Square root of (x^2 + 1):\")\n",
    "display(g)\n",
    "print()\n",
    "\n",
    "# === 3. Expansion: expand ===\n",
    "# Expand the expression (x + 1)^2\n",
    "h = expand((x + 1)**2)\n",
    "print(\"3. Expansion of (x + 1)^2:\")\n",
    "display(h)\n",
    "print()\n",
    "\n",
    "# === 4. Simplification: simplify ===\n",
    "# Simplify a rational expression\n",
    "expr = (x**2 - 1)/(x - 1)\n",
    "simplified_expr = simplify(expr)\n",
    "print(\"4. Simplification of (x^2 - 1)/(x - 1):\")\n",
    "display(simplified_expr)"
   ]
  },
  {
   "cell_type": "markdown",
   "id": "3ee180ad",
   "metadata": {},
   "source": [
    "### `sympy` and logic operators\n",
    "\n",
    "`sympy` offers also tools to implements algorithms based on propositional logic, in fact we can apply the logical operators studied until now. Then we will see more sofisticated use of `sympy` for the propositional logic."
   ]
  },
  {
   "cell_type": "code",
   "execution_count": 5,
   "id": "64bf9849",
   "metadata": {},
   "outputs": [
    {
     "data": {
      "image/png": "[encoded data removed]",
      "text/latex": [
       "$\\displaystyle \\neg A$"
      ],
      "text/plain": [
       "¬A"
      ]
     },
     "metadata": {},
     "output_type": "display_data"
    },
    {
     "data": {
      "image/png": "[encoded data removed]",
      "text/latex": [
       "$\\displaystyle A \\wedge B$"
      ],
      "text/plain": [
       "A ∧ B"
      ]
     },
     "metadata": {},
     "output_type": "display_data"
    },
    {
     "data": {
      "image/png": "[encoded data removed]",
      "text/latex": [
       "$\\displaystyle A \\vee B$"
      ],
      "text/plain": [
       "A ∨ B"
      ]
     },
     "metadata": {},
     "output_type": "display_data"
    },
    {
     "data": {
      "image/png": "[encoded data removed]",
      "text/latex": [
       "$\\displaystyle A \\Rightarrow B$"
      ],
      "text/plain": [
       "A → B"
      ]
     },
     "metadata": {},
     "output_type": "display_data"
    },
    {
     "data": {
      "image/png": "[encoded data removed]",
      "text/latex": [
       "$\\displaystyle A \\Leftrightarrow B$"
      ],
      "text/plain": [
       "A ⇔ B"
      ]
     },
     "metadata": {},
     "output_type": "display_data"
    },
    {
     "data": {
      "image/png": "[encoded data removed]",
      "text/latex": [
       "$\\displaystyle \\neg A$"
      ],
      "text/plain": [
       "¬A"
      ]
     },
     "metadata": {},
     "output_type": "display_data"
    },
    {
     "data": {
      "image/png": "[encoded data removed]",
      "text/latex": [
       "$\\displaystyle A \\wedge B$"
      ],
      "text/plain": [
       "A ∧ B"
      ]
     },
     "metadata": {},
     "output_type": "display_data"
    },
    {
     "data": {
      "image/png": "[encoded data removed]",
      "text/latex": [
       "$\\displaystyle A \\vee B$"
      ],
      "text/plain": [
       "A ∨ B"
      ]
     },
     "metadata": {},
     "output_type": "display_data"
    },
    {
     "data": {
      "image/png": "[encoded data removed]",
      "text/latex": [
       "$\\displaystyle A \\Rightarrow B$"
      ],
      "text/plain": [
       "A → B"
      ]
     },
     "metadata": {},
     "output_type": "display_data"
    }
   ],
   "source": [
    "from sympy import And, Or, Not, Implies, Equivalent, abc\n",
    "\n",
    "display(Not(abc.A))\n",
    "display(And(abc.A, abc.B))\n",
    "display(Or(abc.A, abc.B))\n",
    "display(Implies(abc.A,abc.B))\n",
    "display(Equivalent(abc.A,abc.B))\n",
    "\n",
    "# But you can also use unary operators to reach an equivalent result\n",
    "display(~abc.A)          # NOT\n",
    "display(abc.A & abc.B)   # AND\n",
    "display(abc.A | abc.B)   # OR\n",
    "display(abc.A >> abc.B)  # IMPLIES "
   ]
  },
  {
   "cell_type": "markdown",
   "id": "b4a4dbbc",
   "metadata": {},
   "source": [
    "### Truth tables in `sympy`\n",
    "\n",
    "`sympy` allows us to compute truth tables of the logic operators automatically."
   ]
  },
  {
   "cell_type": "code",
   "execution_count": 6,
   "id": "086a593f",
   "metadata": {},
   "outputs": [
    {
     "name": "stdout",
     "output_type": "stream",
     "text": [
      "\n",
      "A ∧ B: truth table\n",
      "([0, 0], False)\n",
      "([0, 1], False)\n",
      "([1, 0], False)\n",
      "([1, 1], True)\n",
      "\n",
      "¬A: truth table\n",
      "([0], True)\n",
      "([1], False)\n",
      "\n",
      "A ∨ B: truth table\n",
      "([0, 0], False)\n",
      "([0, 1], True)\n",
      "([1, 0], True)\n",
      "([1, 1], True)\n",
      "\n",
      "A ⇔ B: truth table\n",
      "([0, 0], True)\n",
      "([0, 1], False)\n",
      "([1, 0], False)\n",
      "([1, 1], True)\n",
      "\n",
      "A ⇒ A ∧ ¬B: truth table\n",
      "([0, 0], True)\n",
      "([0, 1], True)\n",
      "([1, 0], True)\n",
      "([1, 1], False)\n"
     ]
    }
   ],
   "source": [
    "from sympy import symbols\n",
    "from sympy.logic.boolalg import And, Or, Not, Implies, Equivalent, truth_table\n",
    "\n",
    "def print_truth_table(truth_table=truth_table ,title=None):\n",
    "    print(title)\n",
    "    for combination in truth_table:\n",
    "        print(combination)\n",
    "\n",
    "A, B = symbols('A, B')\n",
    "\n",
    "# Logic operators\n",
    "AND_expression = And(A,B)\n",
    "OR_expression = Or(A, B)\n",
    "NOT_expression = Not(A)\n",
    "BIDIRECTIONAL_expression = Equivalent(A,B)\n",
    "COMPLEX_expression = Implies(A, And(A, Not(B)))\n",
    "\n",
    "# Truth tables\n",
    "and_tt = truth_table(AND_expression, [A, B])\n",
    "or_tt = truth_table(OR_expression, [A,B])\n",
    "not_tt = truth_table(NOT_expression, [A])\n",
    "bidirectional_tt = truth_table(BIDIRECTIONAL_expression, [A,B])\n",
    "complex_tt = truth_table(COMPLEX_expression, [A,B])\n",
    "\n",
    "# Truth tables output\n",
    "print_truth_table(and_tt, \"\\nA ∧ B: truth table\")\n",
    "print_truth_table(not_tt, \"\\n¬A: truth table\")\n",
    "print_truth_table(or_tt, \"\\nA ∨ B: truth table\")\n",
    "print_truth_table(bidirectional_tt, \"\\nA ⇔ B: truth table\")\n",
    "print_truth_table(complex_tt, \"\\nA ⇒ A ∧ ¬B: truth table\")"
   ]
  },
  {
   "cell_type": "markdown",
   "id": "fb3ffb7a",
   "metadata": {},
   "source": [
    "## Model checking: using `sympy`\n",
    "\n",
    "In this section we will see how to implement model checking using `sympy` module, so we we want entail a query $\\alpha$ respect to the knowledge base $KB$.\n",
    "\n",
    "We have the following rules (KB):\n",
    "• If it didn’t rain, Harry visited Hagrid today\n",
    "• Harry visited Hagrid or Dumbledore today, but not both\n",
    "• Harry visited Dumbledore today\n",
    "\n",
    "And theese are the facts:\n",
    "• Harry did not visit Hagrid today\n",
    "• It rained today\n",
    "\n",
    "Using only theese information we can infer some information using model checking.\n",
    "\n",
    "⚠️: In this example we will assume that Harry visited Doumbledore. In fact we put \"doumbledore\" in the KB, you can try to change this fact with \"hagrid\"."
   ]
  },
  {
   "cell_type": "code",
   "execution_count": 7,
   "id": "c25cbfb4",
   "metadata": {},
   "outputs": [
    {
     "name": "stdout",
     "output_type": "stream",
     "text": [
      "MODEL CHECKING RESULTS\n",
      "Query test [hagrid]: False\n",
      "Query test [dumbledore]: True\n",
      "Query test [rain]: True\n",
      "Query test [~rain]: False\n",
      "Query test [hagrid & ~dumbledore]: False\n",
      "Query test [~dumbledore]: False\n",
      "\n",
      "SYMPY ENTAILS RESULTS\n",
      "Query test [hagrid]: False\n",
      "Query test [dumbledore]: True\n",
      "Query test [rain]: True\n",
      "Query test [~rain]: False\n",
      "Query test [hagrid & ~dumbledore]: False\n",
      "Query test [~dumbledore]: False\n",
      "\n",
      "SATISFIABILITY\n",
      "{dumbledore: True, rain: True, hagrid: False}\n"
     ]
    }
   ],
   "source": [
    "from sympy import symbols, And, Not, Or, Implies, satisfiable\n",
    "from sympy.logic.inference import entails\n",
    "\n",
    "rain, hagrid, dumbledore = symbols(\"rain hagrid dumbledore\")\n",
    "\n",
    "KB = And(\n",
    "    Implies(Not(rain), hagrid),\n",
    "    Or(hagrid, dumbledore),\n",
    "    Not(And(hagrid, dumbledore)),\n",
    "    dumbledore  # try to change this fact with \"hagrid\"\n",
    ")\n",
    "\n",
    "# Model checking\n",
    "def model_checking(knowledge_base, query, symbols, model):\n",
    "    if not symbols:\n",
    "        if knowledge_base.subs(model):\n",
    "            return query.subs(model)\n",
    "        return True\n",
    "    else:    \n",
    "        remaining = symbols.copy()\n",
    "        p = remaining.pop()\n",
    "    \n",
    "        model_true = model.copy()\n",
    "        model_true[p] = True\n",
    "        model_false = model.copy()\n",
    "        model_false[p] = False\n",
    "\n",
    "        return (model_checking(knowledge_base, query, remaining, model_true)) and \\\n",
    "               (model_checking(knowledge_base, query, remaining, model_false))\n",
    "\n",
    "# Input test\n",
    "symbols_list = [rain, hagrid, dumbledore]\n",
    "queries = [hagrid, dumbledore, rain, Not(rain), And(hagrid, Not(dumbledore)), Not(dumbledore)]\n",
    "\n",
    "# Entailment with MODEL CHECKING\n",
    "print(\"MODEL CHECKING RESULTS\")\n",
    "for query in queries:\n",
    "    model = {}\n",
    "    result = model_checking(KB, query, symbols_list, model)\n",
    "    print(f\"Query test [{query}]: {result}\")\n",
    "\n",
    "# Entailment with sympy entails()\n",
    "print(\"\\nSYMPY ENTAILS RESULTS\")\n",
    "for query in queries:\n",
    "    result = entails(query, [KB])\n",
    "    print(f\"Query test [{query}]: {result}\")\n",
    "\n",
    "# Satisfiability with sympy\n",
    "print(f'\\nSATISFIABILITY\\n{satisfiable(KB, all_models=False)}')"
   ]
  },
  {
   "cell_type": "markdown",
   "id": "87fd78c4",
   "metadata": {},
   "source": [
    "## Normal forms for logical expressions\n",
    "\n",
    "Complex logical expressions can be represented in various forms, and sometimes these form changes can be very useful for different tasks.\n",
    "As we will see, we have different ways to do this.\n",
    "\n",
    "### De Morgan's law\n",
    "\n",
    "De Morgan's Laws are two fundamental equivalences in propositional logic used to manipulate negations of compound statements:\n",
    "\n",
    "1. $\\neg(P \\wedge Q) \\equiv \\neg P \\vee \\neg Q$\n",
    "2. $\\neg(P \\vee Q) \\equiv \\neg P \\wedge \\neg Q$\n",
    "\n",
    "These laws are crucial for:\n",
    "- Simplifying logical expressions\n",
    "- Transforming formulas into NNF\n",
    "- Removing negations from complex expressions\n",
    "\n",
    "These transformations preserve the **logical equivalence** of the original formula and are especially useful in automated reasoning and logic-based algorithms.\n",
    "\n",
    "### Conjunctive normal form (CNF)\n",
    "\n",
    "Conjunctive Normal Form (CNF) is a standardized format for logical formulas used in SAT (Boolean satisfiability problem) solving, theorem proving, and logic programming.\n",
    "\n",
    "A formula in CNF is a **conjunction of one or more clauses**, where each **clause is a disjunction of literals**.\n",
    "\n",
    "- **Literal**: a variable or its negation (e.g., $P$, $\\neg Q$)\n",
    "- **Clause**: disjunction of literals (e.g., $\\neg P \\vee Q \\vee R$)\n",
    "- **CNF Formula**: conjunction of clauses (e.g., $(\\neg P \\vee Q) \\wedge (R \\vee S \\vee \\neg T)$)\n",
    "\n",
    "The manipulations applied by CNF are:\n",
    "\n",
    "* Eliminates implications ($\\Rightarrow$)\n",
    "* Elminates bidirectionala ($\\Leftrightarrow$)\n",
    "* Push negations inward using De Morgan's law\n",
    "* Uses distributive law in order to distribute disjunction $(\\vee)$ wherever possible\n",
    "\n",
    "### Negation normal form (NNF)\n",
    "\n",
    "Negation Normal Form (NNF) is a way of rewriting logical formulas so that:\n",
    "- The only allowed logical connectives are **∧ (AND)**, **∨ (OR)**, and **¬ (NOT)**.\n",
    "- The **NOT operator (¬)** appears **only in front of propositional variables (atoms)**.\n",
    "- There are **no implications (⇒)** or **bi-implications (⇔)**.\n",
    "\n",
    "To convert any propositional formula into NNF, we apply:\n",
    "1. Elimination of implications and bi-implications:\n",
    "   - $( P \\Rightarrow Q )$ becomes $( \\neg P \\vee Q )$\n",
    "   - $( P \\Leftrightarrow Q )$ becomes $( (P \\wedge Q) \\vee (\\neg P \\wedge \\neg Q) )$\n",
    "2. Application of De Morgan’s Laws to push negations inward.\n",
    "3. Simplification of double negations: $(\\neg(\\neg P))$ becomes $( P )$\n",
    "\n",
    "### CNF and NNF using `sympy`"
   ]
  },
  {
   "cell_type": "code",
   "execution_count": 8,
   "id": "965d8a90",
   "metadata": {},
   "outputs": [
    {
     "name": "stdout",
     "output_type": "stream",
     "text": [
      "Original expression 1\n"
     ]
    },
    {
     "data": {
      "image/png": "[encoded data removed]",
      "text/latex": [
       "$\\displaystyle P \\Rightarrow Q$"
      ],
      "text/plain": [
       "P → Q"
      ]
     },
     "metadata": {},
     "output_type": "display_data"
    },
    {
     "name": "stdout",
     "output_type": "stream",
     "text": [
      "Expression 1 CNF version\n"
     ]
    },
    {
     "data": {
      "image/png": "[encoded data removed]",
      "text/latex": [
       "$\\displaystyle Q \\vee \\neg P$"
      ],
      "text/plain": [
       "Q ∨ ¬P"
      ]
     },
     "metadata": {},
     "output_type": "display_data"
    },
    {
     "name": "stdout",
     "output_type": "stream",
     "text": [
      "Original expression 2\n"
     ]
    },
    {
     "data": {
      "image/png": "[encoded data removed]",
      "text/latex": [
       "$\\displaystyle \\neg \\left(P \\wedge Q\\right)$"
      ],
      "text/plain": [
       "¬(P ∧ Q)"
      ]
     },
     "metadata": {},
     "output_type": "display_data"
    },
    {
     "name": "stdout",
     "output_type": "stream",
     "text": [
      "Expression 2 CNF version\n"
     ]
    },
    {
     "data": {
      "image/png": "[encoded data removed]",
      "text/latex": [
       "$\\displaystyle \\neg P \\vee \\neg Q$"
      ],
      "text/plain": [
       "¬P ∨ ¬Q"
      ]
     },
     "metadata": {},
     "output_type": "display_data"
    }
   ],
   "source": [
    "from sympy.logic import to_cnf\n",
    "from sympy import abc\n",
    "\n",
    "# Atomic terms\n",
    "P = abc.P\n",
    "Q = abc.Q\n",
    "\n",
    "# CNF Conversion\n",
    "original_expr1 = Implies(P,Q)\n",
    "original_expr2 = Not(And(P,Q))\n",
    "cnf_expr1 = to_cnf(original_expr1)\n",
    "cnf_expr2 = to_cnf(original_expr2)\n",
    "\n",
    "# Output\n",
    "print(\"Original expression 1\")\n",
    "display(original_expr1)\n",
    "print(\"Expression 1 CNF version\")\n",
    "display(cnf_expr1)\n",
    "print(\"Original expression 2\")\n",
    "display(original_expr2)\n",
    "print(\"Expression 2 CNF version\")\n",
    "display(cnf_expr2)"
   ]
  },
  {
   "cell_type": "code",
   "execution_count": 9,
   "id": "9024c2c4",
   "metadata": {},
   "outputs": [
    {
     "name": "stdout",
     "output_type": "stream",
     "text": [
      "Original expression\n"
     ]
    },
    {
     "data": {
      "image/png": "[encoded data removed]",
      "text/latex": [
       "$\\displaystyle A \\Leftrightarrow B$"
      ],
      "text/plain": [
       "A ⇔ B"
      ]
     },
     "metadata": {},
     "output_type": "display_data"
    },
    {
     "name": "stdout",
     "output_type": "stream",
     "text": [
      "NNF converted\n"
     ]
    },
    {
     "data": {
      "image/png": "[encoded data removed]",
      "text/latex": [
       "$\\displaystyle \\left(A \\vee \\neg B\\right) \\wedge \\left(B \\vee \\neg A\\right)$"
      ],
      "text/plain": [
       "(A ∨ ¬B) ∧ (B ∨ ¬A)"
      ]
     },
     "metadata": {},
     "output_type": "display_data"
    }
   ],
   "source": [
    "from sympy.logic import to_nnf\n",
    "\n",
    "# Atomic terms\n",
    "A = abc.A\n",
    "B = abc.B\n",
    "\n",
    "# NNF conversion\n",
    "original_expr = Equivalent(A,B)\n",
    "nnf_expr = to_nnf(original_expr)\n",
    "\n",
    "# Output\n",
    "print(\"Original expression\")\n",
    "display(original_expr)\n",
    "print(\"NNF converted\")\n",
    "display(nnf_expr)"
   ]
  },
  {
   "cell_type": "markdown",
   "id": "38c3b706",
   "metadata": {},
   "source": [
    "## Inference with propositional logic\n",
    "\n",
    "There are others algorithms outside of the **model checking**, in particular we will explore the **forward chaining** and **backward chaining** algorithms. Firstly we have to introduce the general concepts of inference.\n",
    "\n",
    "* **Logically equivalence**: we say that two sentences $\\alpha$ and $\\beta$ are logically equivalent (if and only if) $\\alpha \\equiv \\beta$, if they are true under the same models, so when $\\alpha \\models \\beta$ and $\\beta \\models \\alpha$. An istance could be $(P \\wedge Q)$ is equivalent to $(Q \\wedge P)$.\n",
    "* **Valid**: if a sentence is true in all models, an example is the sentence $(P \\vee \\neg P)$ (*tautology sentence*)\n",
    "* **satisfiable (SAT)**: if a sentence is true only in some models, an example is the sentence $(P \\wedge Q)$. The satisfiability can be used to proof the entailment using an approach called *reductio ad absurdum*, formally $\\alpha \\models \\beta$ if and only if ($\\alpha \\wedge \\neg \\beta$)\n",
    "\n",
    "A formal way to describe an inference rule is this:\n",
    "\n",
    "$$\n",
    "\\frac{premises}{conclusions}\n",
    "$$\n",
    "\n",
    "### Main inference rules\n",
    "\n",
    "The main inference rules are following reported, they are very easy to proof using `model checking` algorithm."
   ]
  },
  {
   "cell_type": "markdown",
   "id": "3cf05c76",
   "metadata": {},
   "source": [
    "<table style=\"border-collapse:collapse;border-color:#C44D58;border-spacing:0\" class=\"tg\"><thead><tr><th style=\"background-color:#FE4365;border-color:#C44D58;border-style:solid;border-width:1px;color:#fdf6e3;font-family:Arial, sans-serif;font-size:14px;font-weight:normal;overflow:hidden;padding:10px 5px;text-align:center;vertical-align:top;word-break:normal\">Inference rule</th><th style=\"background-color:#FE4365;border-color:#C44D58;border-style:solid;border-width:1px;color:#fdf6e3;font-family:Arial, sans-serif;font-size:14px;font-weight:normal;overflow:hidden;padding:10px 5px;text-align:center;vertical-align:top;word-break:normal\">Example</th></tr></thead>\n",
    "<tbody><tr><td style=\"background-color:#FFA4A0;border-color:inherit;border-style:solid;border-width:1px;color:#002b36;font-family:Arial, sans-serif;font-size:14px;overflow:hidden;padding:10px 5px;text-align:center;vertical-align:top;word-break:normal\">And elimination</td><td style=\"background-color:#FFA4A0;border-color:inherit;border-style:solid;border-width:1px;color:#002b36;font-family:Arial, sans-serif;font-size:14px;overflow:hidden;padding:10px 5px;text-align:center;vertical-align:top;word-break:normal\">P ∧ Q, P<br>_______<br>Q</td></tr>\n",
    "<tr><td style=\"background-color:#F9CDAD;border-color:inherit;border-style:solid;border-width:1px;color:#002b36;font-family:Arial, sans-serif;font-size:14px;overflow:hidden;padding:10px 5px;text-align:center;vertical-align:top;word-break:normal\">And introduction</td><td style=\"background-color:#F9CDAD;border-color:inherit;border-style:solid;border-width:1px;color:#002b36;font-family:Arial, sans-serif;font-size:14px;overflow:hidden;padding:10px 5px;text-align:center;vertical-align:top;word-break:normal\">P, Q<br>_______<br>P ∧ Q</td></tr>\n",
    "<tr><td style=\"background-color:#FFA4A0;border-color:inherit;border-style:solid;border-width:1px;color:#002b36;font-family:Arial, sans-serif;font-size:14px;overflow:hidden;padding:10px 5px;text-align:center;vertical-align:top;word-break:normal\">Or introduction</td><td style=\"background-color:#FFA4A0;border-color:inherit;border-style:solid;border-width:1px;color:#002b36;font-family:Arial, sans-serif;font-size:14px;overflow:hidden;padding:10px 5px;text-align:center;vertical-align:top;word-break:normal\">P<br>_______<br>P ∨ Q</td></tr>\n",
    "<tr><td style=\"background-color:#F9CDAD;border-color:inherit;border-style:solid;border-width:1px;color:#002b36;font-family:Arial, sans-serif;font-size:14px;overflow:hidden;padding:10px 5px;text-align:center;vertical-align:top;word-break:normal\">First De Morgan's law</td><td style=\"background-color:#F9CDAD;border-color:inherit;border-style:solid;border-width:1px;color:#002b36;font-family:Arial, sans-serif;font-size:14px;overflow:hidden;padding:10px 5px;text-align:center;vertical-align:top;word-break:normal\">¬(P ∧ Q)<br>_______<br>¬P ∨ ¬Q<br></td></tr>\n",
    "<tr><td style=\"background-color:#FFA4A0;border-color:inherit;border-style:solid;border-width:1px;color:#002b36;font-family:Arial, sans-serif;font-size:14px;overflow:hidden;padding:10px 5px;text-align:center;vertical-align:top;word-break:normal\">Double negation</td><td style=\"background-color:#FFA4A0;border-color:inherit;border-style:solid;border-width:1px;color:#002b36;font-family:Arial, sans-serif;font-size:14px;overflow:hidden;padding:10px 5px;text-align:center;vertical-align:top;word-break:normal\">¬(¬P)<br>_______<br>P</td></tr>\n",
    "<tr><td style=\"background-color:#F9CDAD;border-color:inherit;border-style:solid;border-width:1px;color:#002b36;font-family:Arial, sans-serif;font-size:14px;overflow:hidden;padding:10px 5px;text-align:center;vertical-align:top;word-break:normal\">Modus ponens</td><td style=\"background-color:#F9CDAD;border-color:inherit;border-style:solid;border-width:1px;color:#002b36;font-family:Arial, sans-serif;font-size:14px;overflow:hidden;padding:10px 5px;text-align:center;vertical-align:top;word-break:normal\">P → Q, P<br>_______<br>Q</td></tr></tbody></table>"
   ]
  },
  {
   "cell_type": "code",
   "execution_count": 10,
   "id": "a1a18aba",
   "metadata": {},
   "outputs": [
    {
     "name": "stdout",
     "output_type": "stream",
     "text": [
      "Q inference [AND elimination]: True\n",
      "Q inference [Modus ponens]: True\n",
      "P inference [Double negation]: True\n"
     ]
    }
   ],
   "source": [
    "from sympy import And, Not, Implies, Or, Equivalent\n",
    "from sympy.logic.inference import satisfiable\n",
    "from sympy import symbols\n",
    "\n",
    "P, Q = symbols(\"P, Q\")\n",
    "\n",
    "# And elimination\n",
    "tmp_KB = And(And(P,Q), Q)\n",
    "model = {}\n",
    "result = model_checking(tmp_KB, Q, [P, Q], model)\n",
    "print(f\"Q inference [AND elimination]: {result}\")\n",
    "\n",
    "# Modus ponens\n",
    "tmp_KB = And(Implies(P, Q), P)\n",
    "model = {}\n",
    "result = model_checking(tmp_KB, Q, [P, Q], model)\n",
    "print(f\"Q inference [Modus ponens]: {result}\")\n",
    "\n",
    "# Double negation\n",
    "tmp_KB = And(Not(Not(P)))\n",
    "model = {}\n",
    "result = model_checking(tmp_KB, P, [P,Q], model)\n",
    "print(f\"P inference [Double negation]: {result}\")"
   ]
  },
  {
   "cell_type": "markdown",
   "id": "bcb888f2",
   "metadata": {},
   "source": [
    "### Inference by resolution\n",
    "\n",
    "We have already defined that model checking is a too expansive way to proof some entailment, for this reason other algorithms are implemented, in particular, in this section we will explore `inference by resolution`.\n",
    "\n",
    "We can use inference by resolution to determine if $KB \\models \\alpha$ just checking if:\n",
    "\n",
    "$$\n",
    "\\text{satisfiable}(\\text{CNF}(KB \\wedge \\alpha)) = False\n",
    "$$\n",
    "\n",
    "if the above expression is not satisfiable (a contraddiction occurs), then we can say that $KB \\models \\alpha$.\n",
    "\n",
    "We can try to use `sympy` to implements inference by resolution. Consider the following knowledge base:\n",
    "\n",
    "$$\n",
    "(A \\vee B) \\wedge (\\neg B \\vee C) \\wedge (\\neg C)\n",
    "$$\n",
    "\n",
    "We want check if:\n",
    "\n",
    "$$\n",
    "KB \\models A\n",
    "$$\n",
    "\n",
    "⚠️: Inference by resolution is already implemented also in the KB_class.\n",
    "\n",
    "Below the `sympy` implementation that solves this query using inference by resolution."
   ]
  },
  {
   "cell_type": "code",
   "execution_count": 11,
   "id": "2e04a97e",
   "metadata": {},
   "outputs": [
    {
     "name": "stdout",
     "output_type": "stream",
     "text": [
      "Inference by resolution:\n"
     ]
    },
    {
     "data": {
      "text/plain": [
       "False"
      ]
     },
     "execution_count": 11,
     "metadata": {},
     "output_type": "execute_result"
    }
   ],
   "source": [
    "from sympy import symbols\n",
    "from sympy.logic.boolalg import Implies, Not, to_cnf, And, Or\n",
    "from sympy.logic.inference import satisfiable\n",
    "\n",
    "A, B, C = symbols('A B C')\n",
    "\n",
    "kb = And(Or(A,B),Or(Not(B),C),Not(C))\n",
    "\n",
    "negated_query = Not(A)\n",
    "\n",
    "full_expr = And(kb, negated_query)\n",
    "\n",
    "cnf_expr = to_cnf(full_expr, simplify=True)\n",
    "\n",
    "print(\"Inference by resolution:\")\n",
    "satisfiable(cnf_expr)"
   ]
  },
  {
   "cell_type": "markdown",
   "id": "fcda6203",
   "metadata": {},
   "source": [
    "Following, another more intuitive example.\n",
    "\n",
    "$$\n",
    "KB = \\text{Ron is in the great hall} \\vee \\text{Hermione is in the library}, \\neg(\\text{Ron is in the great hall})\n",
    "$$\n",
    "\n",
    "$$\n",
    "Query = \\text{Hermione is in the library}\n",
    "$$\n",
    "\n",
    "As said before, we have to check if:\n",
    "\n",
    "$$\n",
    "\\text{satisfiable}(\\text{CNF}(KB \\wedge \\neg(\\text{Hermione is in the library})))\n",
    "$$"
   ]
  },
  {
   "cell_type": "code",
   "execution_count": 12,
   "id": "c587e690",
   "metadata": {},
   "outputs": [
    {
     "name": "stdout",
     "output_type": "stream",
     "text": [
      "Inference by resolution result:\n"
     ]
    },
    {
     "data": {
      "text/plain": [
       "False"
      ]
     },
     "execution_count": 12,
     "metadata": {},
     "output_type": "execute_result"
    }
   ],
   "source": [
    "from sympy import symbols\n",
    "from sympy.logic.boolalg import Implies, Not, to_cnf, And, Or\n",
    "from sympy.logic.inference import satisfiable\n",
    "\n",
    "ron_is_in_the_great_hall = symbols('ron_is_in_the_great_hall')\n",
    "hermione_is_in_the_library = symbols('hermione_is_in_the_library') \n",
    "\n",
    "kb = And(Or(ron_is_in_the_great_hall, hermione_is_in_the_library), Not(ron_is_in_the_great_hall))\n",
    "\n",
    "negated_query = Not(hermione_is_in_the_library)\n",
    "\n",
    "full_expr = And(kb, negated_query)\n",
    "\n",
    "cnf_expr = to_cnf(full_expr, simplify=True)\n",
    "\n",
    "print(\"Inference by resolution result:\")\n",
    "satisfiable(cnf_expr)"
   ]
  },
  {
   "cell_type": "markdown",
   "id": "71489674",
   "metadata": {},
   "source": [
    "### Horn clauses\n",
    "\n",
    "A horn clause is a special case of disjunction of literals where at most one of them must be true.\n",
    "\n",
    "An example of horn clause is:\n",
    "\n",
    "$$\n",
    "\\neg P \\vee Q \\vee \\neg S\n",
    "$$\n",
    "\n",
    "In addition, a horn clause can be expressed as an implication:\n",
    "\n",
    "$$\n",
    "\\neg P \\vee \\neg Q \\vee S\n",
    "$$\n",
    "\n",
    "become\n",
    "\n",
    "$$\n",
    "P \\wedge Q \\Rightarrow S\n",
    "$$\n",
    "\n",
    "The horn clauses are useful in many application, in particular, for computational costs reduction when we have to proof a sentence."
   ]
  },
  {
   "cell_type": "code",
   "execution_count": 13,
   "id": "763c58e5",
   "metadata": {},
   "outputs": [
    {
     "name": "stdout",
     "output_type": "stream",
     "text": [
      "Horn truth table\n",
      "\n",
      "([0, 0, 0], True)\n",
      "([0, 0, 1], True)\n",
      "([0, 1, 0], True)\n",
      "([0, 1, 1], True)\n",
      "([1, 0, 0], True)\n",
      "([1, 0, 1], True)\n",
      "([1, 1, 0], False)\n",
      "([1, 1, 1], True)\n",
      "\n",
      "Horn as implication truth table\n",
      "\n",
      "([0, 0, 0], True)\n",
      "([0, 0, 1], True)\n",
      "([0, 1, 0], True)\n",
      "([0, 1, 1], True)\n",
      "([1, 0, 0], True)\n",
      "([1, 0, 1], True)\n",
      "([1, 1, 0], False)\n",
      "([1, 1, 1], True)\n"
     ]
    }
   ],
   "source": [
    "\"\"\"\n",
    "    Truth tables of Horn clause and its implication form.\n",
    "    This implementation proof the equivalence of the horn and its implication form\n",
    "\"\"\"\n",
    "\n",
    "from sympy.logic.boolalg import truth_table\n",
    "\n",
    "P,Q,S = symbols(\"P,Q,S\")\n",
    "\n",
    "# Horn clause\n",
    "horn = Or(Not(P), Not(Q), S)\n",
    "\n",
    "# Horn as implication\n",
    "horn_as_implication = Implies(And(P, Q), S)\n",
    "\n",
    "# Truth tables\n",
    "horn_tt = truth_table(horn, [P,Q,S])\n",
    "horn_as_implication_tt = truth_table(horn_as_implication, [P,Q,S])\n",
    "\n",
    "print_truth_table(horn_tt, \"Horn truth table\\n\")\n",
    "print_truth_table(horn_as_implication_tt, \"\\nHorn as implication truth table\\n\")"
   ]
  },
  {
   "cell_type": "markdown",
   "id": "8fce78ce",
   "metadata": {},
   "source": [
    "We can also implement two functions which check if a clause is a horn clause, while the other function can transform a horn clause as implication."
   ]
  },
  {
   "cell_type": "code",
   "execution_count": 14,
   "id": "db79932b",
   "metadata": {},
   "outputs": [
    {
     "name": "stdout",
     "output_type": "stream",
     "text": [
      "Is clause 1 a horn clause?: True\n",
      "Is clause 2 a horn clause?: False\n",
      "\n",
      "Horn clause 1\n"
     ]
    },
    {
     "data": {
      "image/png": "[encoded data removed]",
      "text/latex": [
       "$\\displaystyle M \\vee \\neg L \\vee \\neg P \\vee \\neg Q$"
      ],
      "text/plain": [
       "M ∨ ¬L ∨ ¬P ∨ ¬Q"
      ]
     },
     "metadata": {},
     "output_type": "display_data"
    },
    {
     "name": "stdout",
     "output_type": "stream",
     "text": [
      "Horn clause 1 as implication\n"
     ]
    },
    {
     "data": {
      "image/png": "[encoded data removed]",
      "text/latex": [
       "$\\displaystyle \\left(L \\wedge P \\wedge Q\\right) \\Rightarrow M$"
      ],
      "text/plain": [
       "(L ∧ P ∧ Q) → M"
      ]
     },
     "metadata": {},
     "output_type": "display_data"
    }
   ],
   "source": [
    "from sympy import Symbol\n",
    "\n",
    "\"\"\" \n",
    "    Function that check if a clause is a horn clause\n",
    "\n",
    "    @param\n",
    "        clause (sympy clause): clause defined using sympy module\n",
    "\"\"\"\n",
    "from sympy import Or, Not, Implies, And, Symbol, false\n",
    "\n",
    "def check_horn(clause):\n",
    "    terms = clause.args\n",
    "\n",
    "    # Check if a fact is positive\n",
    "    if isinstance(clause, Symbol):\n",
    "        return True\n",
    "\n",
    "    # Check for pure clauses (disdisjunction)\n",
    "    if isinstance(clause, Or):    \n",
    "        positive_atoms = 0\n",
    "        for term in terms:\n",
    "            if not isinstance(term, Not):\n",
    "                positive_atoms += 1\n",
    "        if positive_atoms > 1:\n",
    "            return False\n",
    "        return True\n",
    "    \n",
    "    # Check for clauses as implications\n",
    "    if isinstance(clause, Implies):\n",
    "        conclusion = clause.args[1]\n",
    "        premisees = clause.args[0]\n",
    "\n",
    "        if not isinstance(conclusion, Symbol) and conclusion != false:\n",
    "            return False\n",
    "\n",
    "        if isinstance(premisees, Symbol):\n",
    "            return True\n",
    "\n",
    "        if isinstance(premisees, And):\n",
    "            for literal in premisees.args:\n",
    "                if not isinstance(literal, Symbol):\n",
    "                    return False\n",
    "            return True\n",
    "        \n",
    "        return False\n",
    "\n",
    "    return False \n",
    "\n",
    "\n",
    "\n",
    "\"\"\"\n",
    "    Function that converts a horn clause as implication\n",
    "    \n",
    "    @param\n",
    "        clause (sympy clause): Horn clause defined using sympy module\n",
    "\"\"\"\n",
    "def horn_to_implication(clause):\n",
    "    # Check if a clause is a pure horn clause\n",
    "    if check_horn(clause) and isinstance(clause, Or):\n",
    "        terms = clause.args\n",
    "        negative_terms = []\n",
    "        positive_term = None\n",
    "        for term in terms:\n",
    "            if isinstance(term, Not):\n",
    "                negative_terms.append(term.args[0])\n",
    "            else:\n",
    "                positive_term = term\n",
    "\n",
    "        if positive_term is None:\n",
    "            return clause\n",
    "\n",
    "        return Implies(And(*negative_terms), positive_term)\n",
    "    else:\n",
    "        return clause\n",
    "    \n",
    "# Usage\n",
    "P, Q, M, L = symbols(\"P Q M L\")\n",
    "\n",
    "clause1 = Or(Not(P), Not(Q), M, Not(L))   # Horn clause\n",
    "clause2 = Or(Not(P), Q, Not(M), L)        # No-Horn clause\n",
    "clause3 = Implies(And(P,Q,L),M)\n",
    "print(f\"Is clause 1 a horn clause?: {check_horn(clause1)}\")\n",
    "print(f\"Is clause 2 a horn clause?: {check_horn(clause2)}\")\n",
    "\n",
    "print(\"\\nHorn clause 1\")\n",
    "display(clause1)\n",
    "print(\"Horn clause 1 as implication\")\n",
    "display(horn_to_implication(clause1))"
   ]
  },
  {
   "cell_type": "markdown",
   "id": "37fde339",
   "metadata": {},
   "source": [
    "### How to manage KB in `sympy`\n",
    "\n",
    "In this section we will try to implement a class useful to manage our knowledge base easily, basically, we want implement a class which contains all studied concepts that we have seen until now.\n",
    "\n",
    "ℹ️: If you want to use this class in a python source code, replace all `display()` functions with a classical `print()`."
   ]
  },
  {
   "cell_type": "code",
   "execution_count": 15,
   "id": "0a746d3e",
   "metadata": {},
   "outputs": [],
   "source": [
    "from sympy.logic import And, Or, Not, Implies\n",
    "from sympy import symbols, Symbol, to_cnf\n",
    "from sympy.logic.inference import satisfiable\n",
    "\n",
    "\"\"\"\n",
    "    Class that defines a Knowledge base, in order to manage it easily.\n",
    "    \n",
    "    @params:\n",
    "        symbols_list (list): List of sympy.Symbol objects\n",
    "        *clauses (Any): Each arguments will be handle as a separate clause\n",
    "\"\"\"\n",
    "class KB_class:\n",
    "    def __init__(self, symbols_list, *clauses):\n",
    "        self.knowledge_base = [clause for clause in clauses]\n",
    "        self.symbols = [symbol for symbol in symbols_list]\n",
    "    \n",
    "    \"\"\"\n",
    "        Add one or more clauses to KB\n",
    "    \"\"\"\n",
    "    def add_clauses(self, *clauses):\n",
    "        for clause in clauses:\n",
    "            self.knowledge_base.append(clause)\n",
    "\n",
    "    \"\"\"\n",
    "        Remove one or more clauses from the KB\n",
    "    \"\"\"\n",
    "    def remove_clauses(self, *clauses):\n",
    "        self.knowledge_base = [clause for clause in self.knowledge_base if clause not in clauses]\n",
    "\n",
    "    \"\"\"\n",
    "        Add one or more symbols \n",
    "    \"\"\"\n",
    "    def add_symbols(self, *symbols_list):\n",
    "        for symbol in symbols_list:\n",
    "            if isinstance(symbol, Symbol):\n",
    "                self.symbols.append(symbol)\n",
    "            else:\n",
    "                print(\"Error: symbols must be sympy.Symbol object\")\n",
    "    \n",
    "    \"\"\"\n",
    "        Remove one or more symbols, also the clauses which contain the removed symbols will be removed.\n",
    "        sympy.Symbol.atoms() is used to extract the involved symbols in a clause\n",
    "    \"\"\"\n",
    "    def remove_symbols(self, *symbols_list):\n",
    "        self.symbols = [symbol for symbol in self.symbols if symbol not in symbols_list]\n",
    "        for clause in self.knowledge_base:\n",
    "            atoms = clause.atoms()\n",
    "            for symbol in symbols_list:\n",
    "                if symbol in atoms:\n",
    "                    self.remove_clauses(clause)\n",
    "\n",
    "    \"\"\"\n",
    "        Check if the whole knowlwdge base is composed by horn clauses\n",
    "    \"\"\"\n",
    "    def is_horn(self):\n",
    "        no_horn = 0\n",
    "        \n",
    "        for clause in self.knowledge_base:\n",
    "            if not check_horn(clause):\n",
    "                no_horn += 1\n",
    "        if no_horn > 0:\n",
    "            return False\n",
    "        return True\n",
    "\n",
    "    \"\"\"\n",
    "        Replace all horn clauses with their respective implication\n",
    "    \"\"\"\n",
    "    def horn_to_implication(self):\n",
    "        for clause in self.knowledge_base:\n",
    "            if check_horn(clause) and isinstance(clause, Or):\n",
    "                self.add_clauses(horn_to_implication(clause))\n",
    "                self.remove_clauses(clause)\n",
    "    \n",
    "    \"\"\"\n",
    "        Returns the known facts in the knowledge base\n",
    "    \"\"\"\n",
    "    def extract_facts(self):\n",
    "        facts = []\n",
    "        for clause in self.knowledge_base:\n",
    "                if len(clause.atoms()) == 1:\n",
    "                    facts.append(clause)\n",
    "        return facts\n",
    "\n",
    "    \"\"\"\n",
    "        Print all knowledge base facts/rules\n",
    "    \"\"\"\n",
    "    def print_clauses(self):\n",
    "        for clause in self.knowledge_base:\n",
    "            display(clause)\n",
    "\n",
    "    \"\"\"\n",
    "        Print all knowledge base symbols\n",
    "    \"\"\"\n",
    "    def print_symbols(self):\n",
    "        display(self.symbols)\n",
    "\n",
    "    \"\"\"\n",
    "        Check if a sentence contained into the KB\n",
    "    \"\"\"\n",
    "    def contains(self, clause):\n",
    "        if clause not in self.knowledge_base:\n",
    "            return False\n",
    "        return True\n",
    "\n",
    "    \"\"\"\n",
    "        Return KB as a unique AND\n",
    "    \"\"\"\n",
    "    def build_KB(self):\n",
    "        return And(*self.knowledge_base)\n",
    "    \n",
    "    \"\"\"\n",
    "        Check if KB entail a query alpha (KB:=a) using inference by resolution\n",
    "    \"\"\"\n",
    "    def entails(self, query):\n",
    "        kb_as_and = self.build_KB()\n",
    "        join_expression = And(kb_as_and, Not(query))\n",
    "        join_expression = to_cnf(join_expression, simplify=True)\n",
    "        if not satisfiable(join_expression):\n",
    "           return True\n",
    "        return False"
   ]
  },
  {
   "cell_type": "markdown",
   "id": "99542c9c",
   "metadata": {},
   "source": [
    "Now, we can try our class."
   ]
  },
  {
   "cell_type": "code",
   "execution_count": 16,
   "id": "2b7d8605",
   "metadata": {},
   "outputs": [
    {
     "name": "stdout",
     "output_type": "stream",
     "text": [
      "Symbols\n"
     ]
    },
    {
     "data": {
      "image/png": "[encoded data removed]",
      "text/latex": [
       "$\\displaystyle \\left[ P, \\  Q, \\  A, \\  B\\right]$"
      ],
      "text/plain": [
       "[P, Q, A, B]"
      ]
     },
     "metadata": {},
     "output_type": "display_data"
    },
    {
     "name": "stdout",
     "output_type": "stream",
     "text": [
      "\n",
      "Knowledge Base\n"
     ]
    },
    {
     "data": {
      "image/png": "[encoded data removed]",
      "text/latex": [
       "$\\displaystyle P \\wedge Q$"
      ],
      "text/plain": [
       "P ∧ Q"
      ]
     },
     "metadata": {},
     "output_type": "display_data"
    },
    {
     "data": {
      "image/png": "[encoded data removed]",
      "text/latex": [
       "$\\displaystyle \\neg Q$"
      ],
      "text/plain": [
       "¬Q"
      ]
     },
     "metadata": {},
     "output_type": "display_data"
    },
    {
     "data": {
      "image/png": "[encoded data removed]",
      "text/latex": [
       "$\\displaystyle B \\Rightarrow A$"
      ],
      "text/plain": [
       "B → A"
      ]
     },
     "metadata": {},
     "output_type": "display_data"
    },
    {
     "name": "stdout",
     "output_type": "stream",
     "text": [
      "------ AFTER METHODS -----\n",
      "\n",
      "Symbols\n"
     ]
    },
    {
     "data": {
      "image/png": "[encoded data removed]",
      "text/latex": [
       "$\\displaystyle \\left[ Q, \\  A, \\  B\\right]$"
      ],
      "text/plain": [
       "[Q, A, B]"
      ]
     },
     "metadata": {},
     "output_type": "display_data"
    },
    {
     "name": "stdout",
     "output_type": "stream",
     "text": [
      "\n",
      "Knowledge Base\n"
     ]
    },
    {
     "data": {
      "image/png": "[encoded data removed]",
      "text/latex": [
       "$\\displaystyle \\neg Q$"
      ],
      "text/plain": [
       "¬Q"
      ]
     },
     "metadata": {},
     "output_type": "display_data"
    },
    {
     "data": {
      "image/png": "[encoded data removed]",
      "text/latex": [
       "$\\displaystyle B \\Rightarrow A$"
      ],
      "text/plain": [
       "B → A"
      ]
     },
     "metadata": {},
     "output_type": "display_data"
    },
    {
     "data": {
      "image/png": "[encoded data removed]",
      "text/latex": [
       "$\\displaystyle Q \\Rightarrow B$"
      ],
      "text/plain": [
       "Q → B"
      ]
     },
     "metadata": {},
     "output_type": "display_data"
    },
    {
     "data": {
      "image/png": "[encoded data removed]",
      "text/latex": [
       "$\\displaystyle \\neg A$"
      ],
      "text/plain": [
       "¬A"
      ]
     },
     "metadata": {},
     "output_type": "display_data"
    },
    {
     "name": "stdout",
     "output_type": "stream",
     "text": [
      "\n",
      "Can KB entails A?\n",
      "False\n"
     ]
    }
   ],
   "source": [
    "# Define symbols\n",
    "P, Q, A, B = symbols(\"P Q A B\")\n",
    "\n",
    "# Instanciate Knowledge base and print their properties\n",
    "knowledge_base = KB_class([P, Q, A, B],And(P,Q), Not(Q), Implies(B,A))\n",
    "print(\"Symbols\")\n",
    "knowledge_base.print_symbols()\n",
    "print(\"\\nKnowledge Base\")\n",
    "knowledge_base.print_clauses()\n",
    "\n",
    "# Trying some methods \n",
    "knowledge_base.add_clauses(Implies(Q,B), Not(A))\n",
    "knowledge_base.remove_symbols(P)\n",
    "\n",
    "# Output after methods\n",
    "print(\"------ AFTER METHODS -----\")\n",
    "print(\"\\nSymbols\")\n",
    "knowledge_base.print_symbols()\n",
    "print(\"\\nKnowledge Base\")\n",
    "knowledge_base.print_clauses()\n",
    "\n",
    "# Try entailment\n",
    "print(\"\\nCan KB entails A?\")\n",
    "print(knowledge_base.entails(A))"
   ]
  },
  {
   "cell_type": "markdown",
   "id": "79233545",
   "metadata": {},
   "source": [
    "Others usage on horn KB"
   ]
  },
  {
   "cell_type": "code",
   "execution_count": 17,
   "id": "dc6df633",
   "metadata": {},
   "outputs": [
    {
     "name": "stdout",
     "output_type": "stream",
     "text": [
      "Is KB_horn a horn base? -> True\n",
      "\n",
      "KB_horn before conversion\n"
     ]
    },
    {
     "data": {
      "image/png": "[encoded data removed]",
      "text/latex": [
       "$\\displaystyle P \\vee \\neg A \\vee \\neg Q$"
      ],
      "text/plain": [
       "P ∨ ¬A ∨ ¬Q"
      ]
     },
     "metadata": {},
     "output_type": "display_data"
    },
    {
     "data": {
      "image/png": "[encoded data removed]",
      "text/latex": [
       "$\\displaystyle A \\vee \\neg P \\vee \\neg Q$"
      ],
      "text/plain": [
       "A ∨ ¬P ∨ ¬Q"
      ]
     },
     "metadata": {},
     "output_type": "display_data"
    },
    {
     "name": "stdout",
     "output_type": "stream",
     "text": [
      "KB_horn after conversion\n"
     ]
    },
    {
     "data": {
      "image/png": "[encoded data removed]",
      "text/latex": [
       "$\\displaystyle \\left(A \\wedge Q\\right) \\Rightarrow P$"
      ],
      "text/plain": [
       "(A ∧ Q) → P"
      ]
     },
     "metadata": {},
     "output_type": "display_data"
    },
    {
     "data": {
      "image/png": "[encoded data removed]",
      "text/latex": [
       "$\\displaystyle \\left(P \\wedge Q\\right) \\Rightarrow A$"
      ],
      "text/plain": [
       "(P ∧ Q) → A"
      ]
     },
     "metadata": {},
     "output_type": "display_data"
    }
   ],
   "source": [
    "KB_horn = KB_class(\n",
    "    [P, Q, A],\n",
    "    Or(P,Not(Q),Not(A)),\n",
    "    Or(Not(Q),A,Not(P))\n",
    ")\n",
    "\n",
    "# Check if Horn\n",
    "print(f'Is KB_horn a horn base? -> {KB_horn.is_horn()}')\n",
    "\n",
    "print(\"\\nKB_horn before conversion\")\n",
    "KB_horn.print_clauses()\n",
    "\n",
    "# Converts horn clauses as implications\n",
    "print(\"KB_horn after conversion\")\n",
    "KB_horn.horn_to_implication()\n",
    "KB_horn.print_clauses()"
   ]
  },
  {
   "cell_type": "markdown",
   "id": "848ff174",
   "metadata": {},
   "source": [
    "### Forward chaining\n",
    "\n",
    "Forward chaining is an automatic inference technique that starts from known facts and applies logical rules to derive new facts. It iteratively checks which rules have premises satisfied by the current facts, adding their conclusions to the knowledge base until no further inferences can be made. This method is typically used with knowledge bases expressed as Horn clauses.\n",
    "\n",
    "Forward chaining works if and only if the following requirements are satisfied:\n",
    "\n",
    "* The clauses in the KB are horn clauses\n",
    "* Modus ponens is the main inference rule under the engine\n",
    "* To apply modus ponens, all horn clauses in the KB must be expressed as implications\n",
    "* All the knonw facts in the KB must be positive"
   ]
  },
  {
   "cell_type": "code",
   "execution_count": 18,
   "id": "1b52910e",
   "metadata": {},
   "outputs": [
    {
     "name": "stdout",
     "output_type": "stream",
     "text": [
      "Original KB\n"
     ]
    },
    {
     "data": {
      "image/png": "[encoded data removed]",
      "text/latex": [
       "$\\displaystyle P \\Rightarrow Q$"
      ],
      "text/plain": [
       "P → Q"
      ]
     },
     "metadata": {},
     "output_type": "display_data"
    },
    {
     "data": {
      "image/png": "[encoded data removed]",
      "text/latex": [
       "$\\displaystyle P \\vee \\neg L \\vee \\neg M$"
      ],
      "text/plain": [
       "P ∨ ¬L ∨ ¬M"
      ]
     },
     "metadata": {},
     "output_type": "display_data"
    },
    {
     "data": {
      "image/png": "[encoded data removed]",
      "text/latex": [
       "$\\displaystyle \\left(B \\wedge L\\right) \\Rightarrow M$"
      ],
      "text/plain": [
       "(B ∧ L) → M"
      ]
     },
     "metadata": {},
     "output_type": "display_data"
    },
    {
     "data": {
      "image/png": "[encoded data removed]",
      "text/latex": [
       "$\\displaystyle \\left(A \\wedge P\\right) \\Rightarrow L$"
      ],
      "text/plain": [
       "(A ∧ P) → L"
      ]
     },
     "metadata": {},
     "output_type": "display_data"
    },
    {
     "data": {
      "image/png": "[encoded data removed]",
      "text/latex": [
       "$\\displaystyle \\left(A \\wedge B\\right) \\Rightarrow L$"
      ],
      "text/plain": [
       "(A ∧ B) → L"
      ]
     },
     "metadata": {},
     "output_type": "display_data"
    },
    {
     "data": {
      "image/png": "[encoded data removed]",
      "text/latex": [
       "$\\displaystyle A$"
      ],
      "text/plain": [
       "A"
      ]
     },
     "metadata": {},
     "output_type": "display_data"
    },
    {
     "data": {
      "image/png": "[encoded data removed]",
      "text/latex": [
       "$\\displaystyle B$"
      ],
      "text/plain": [
       "B"
      ]
     },
     "metadata": {},
     "output_type": "display_data"
    },
    {
     "name": "stdout",
     "output_type": "stream",
     "text": [
      "\n",
      "KB after forward chaining\n"
     ]
    },
    {
     "data": {
      "image/png": "[encoded data removed]",
      "text/latex": [
       "$\\displaystyle P \\Rightarrow Q$"
      ],
      "text/plain": [
       "P → Q"
      ]
     },
     "metadata": {},
     "output_type": "display_data"
    },
    {
     "data": {
      "image/png": "[encoded data removed]",
      "text/latex": [
       "$\\displaystyle \\left(B \\wedge L\\right) \\Rightarrow M$"
      ],
      "text/plain": [
       "(B ∧ L) → M"
      ]
     },
     "metadata": {},
     "output_type": "display_data"
    },
    {
     "data": {
      "image/png": "[encoded data removed]",
      "text/latex": [
       "$\\displaystyle \\left(A \\wedge P\\right) \\Rightarrow L$"
      ],
      "text/plain": [
       "(A ∧ P) → L"
      ]
     },
     "metadata": {},
     "output_type": "display_data"
    },
    {
     "data": {
      "image/png": "[encoded data removed]",
      "text/latex": [
       "$\\displaystyle \\left(A \\wedge B\\right) \\Rightarrow L$"
      ],
      "text/plain": [
       "(A ∧ B) → L"
      ]
     },
     "metadata": {},
     "output_type": "display_data"
    },
    {
     "data": {
      "image/png": "[encoded data removed]",
      "text/latex": [
       "$\\displaystyle A$"
      ],
      "text/plain": [
       "A"
      ]
     },
     "metadata": {},
     "output_type": "display_data"
    },
    {
     "data": {
      "image/png": "[encoded data removed]",
      "text/latex": [
       "$\\displaystyle B$"
      ],
      "text/plain": [
       "B"
      ]
     },
     "metadata": {},
     "output_type": "display_data"
    },
    {
     "data": {
      "image/png": "[encoded data removed]",
      "text/latex": [
       "$\\displaystyle \\left(L \\wedge M\\right) \\Rightarrow P$"
      ],
      "text/plain": [
       "(L ∧ M) → P"
      ]
     },
     "metadata": {},
     "output_type": "display_data"
    },
    {
     "data": {
      "image/png": "[encoded data removed]",
      "text/latex": [
       "$\\displaystyle L$"
      ],
      "text/plain": [
       "L"
      ]
     },
     "metadata": {},
     "output_type": "display_data"
    },
    {
     "data": {
      "image/png": "[encoded data removed]",
      "text/latex": [
       "$\\displaystyle M$"
      ],
      "text/plain": [
       "M"
      ]
     },
     "metadata": {},
     "output_type": "display_data"
    },
    {
     "data": {
      "image/png": "[encoded data removed]",
      "text/latex": [
       "$\\displaystyle P$"
      ],
      "text/plain": [
       "P"
      ]
     },
     "metadata": {},
     "output_type": "display_data"
    },
    {
     "data": {
      "image/png": "[encoded data removed]",
      "text/latex": [
       "$\\displaystyle Q$"
      ],
      "text/plain": [
       "Q"
      ]
     },
     "metadata": {},
     "output_type": "display_data"
    },
    {
     "name": "stdout",
     "output_type": "stream",
     "text": [
      "Inferenced facts: [L, M, P, Q]\n"
     ]
    }
   ],
   "source": [
    "\"\"\"\n",
    "    Forward chaining inference algorithm.\n",
    "    knownledge_base (sympy symbols): All clauses in the KB must be horn clauses\n",
    "\"\"\"\n",
    "def forward_chaining(knowledge_base):\n",
    "    if not knowledge_base.is_horn():\n",
    "        print(\"⚠️: The knowledge is a non-horn KB!\")\n",
    "        return None\n",
    "\n",
    "    knowledge_base.horn_to_implication()    \n",
    "    \n",
    "    KB_changed = True\n",
    "    clauses = knowledge_base.knowledge_base\n",
    "    inferenced_rules = []\n",
    "    \n",
    "    while KB_changed:\n",
    "        KB_changed = False\n",
    "        facts = knowledge_base.extract_facts()\n",
    "        for clause in clauses:\n",
    "            if isinstance(clause, Implies):\n",
    "                if modus_ponens(clause, facts):\n",
    "                    conclusion = clause.args[1]\n",
    "                    if conclusion not in facts:\n",
    "                        knowledge_base.add_clauses(conclusion)\n",
    "                        inferenced_rules.append(conclusion)\n",
    "                        KB_changed = True\n",
    "    return inferenced_rules\n",
    "\n",
    "# Modus ponens inference rule\n",
    "def modus_ponens(implication, facts):\n",
    "    if not isinstance(implication, Implies):\n",
    "        return None\n",
    "\n",
    "    premises = set(implication.args[0].atoms())\n",
    "    if premises.issubset(facts):\n",
    "        return True\n",
    "    return False\n",
    "\n",
    "# Main\n",
    "        \n",
    "P, Q, M, L, A, B = symbols(\"P Q M L A B\")\n",
    "\n",
    "KB = KB_class(\n",
    "        [P, Q, M, L, A, B], # symbols\n",
    "        # clauses\n",
    "        Implies(P,Q),\n",
    "        Or(Not(L),Not(M),P),\n",
    "        Implies(And(B,L),M),\n",
    "        Implies(And(A,P),L),\n",
    "        Implies(And(A,B),L),\n",
    "        A,\n",
    "        B\n",
    "    )\n",
    "\n",
    "print(\"Original KB\")\n",
    "KB.print_clauses()\n",
    "print()\n",
    "\n",
    "print(\"KB after forward chaining\")\n",
    "new_facts = forward_chaining(KB)\n",
    "KB.print_clauses()\n",
    "print(f\"Inferenced facts: {new_facts}\")"
   ]
  },
  {
   "cell_type": "markdown",
   "id": "a23df5aa",
   "metadata": {},
   "source": [
    "### Backward chaining\n",
    "\n",
    "Backward chaining is a goal-driven inference method that starts from a query and recursively checks if it can be derived from known facts by proving the premises of matching implication rules.\n",
    "\n",
    "Like forward chaining, also in this case the algorithm works if the clauses of the KB are horn clauses expressed as implications, and modus ponens is the main inference rule. In addition, you have to pay attention to the loops during the inference.\n",
    "\n",
    "Suppose that our KB is composed by:\n",
    "\n",
    "```python\n",
    "KB = (\n",
    "    ¬rain OR wetGrass      # pure horn clause\n",
    "    srpinkler -> wetGrass\n",
    "    wetGrass -> slippery\n",
    "    rain\n",
    ")\n",
    "```\n",
    "\n",
    "We want check if a goal $\\alpha$, can be infered by the KB. For instance, our goal could be $\\alpha=\\texttt{slippery}$.\n",
    "In order to check the inference the backward chaining would proceed following theese steps:\n",
    "\n",
    "1. Goal: slippery — not a known fact.\n",
    "2. Find rules with conclusion slippery: wetGrass → slippery.\n",
    "3. New subgoal: wetGrass.\n",
    "4. Find rules with conclusion wetGrass: ¬rain ∨ wetGrass (rain → wetGrass), sprinkler → wetGrass, srpinkler → wetGrass.\n",
    "5. Check if rain is a known fact.\n",
    "6. rain is known → infer wetGrass.\n",
    "7. From wetGrass and wetGrass → slippery → infer slippery.\n",
    "\n",
    "Conclusion: `slippery` is inferred by backward chaining."
   ]
  },
  {
   "cell_type": "code",
   "execution_count": 19,
   "id": "ad99b60c",
   "metadata": {},
   "outputs": [
    {
     "name": "stdout",
     "output_type": "stream",
     "text": [
      "Is alpha infered by KB?\n"
     ]
    },
    {
     "data": {
      "text/plain": [
       "True"
      ]
     },
     "execution_count": 19,
     "metadata": {},
     "output_type": "execute_result"
    }
   ],
   "source": [
    "from sympy import Implies, And, Symbol\n",
    "\n",
    "\"\"\"\n",
    "    Backward chaining inference algorithm\n",
    "\n",
    "    @params\n",
    "        goal (sympy Symbol): sympy Symbol object which express a fact \n",
    "        knowledge_base (KB_class): Knoweledge base\n",
    "        visited (bool): This parameter is useful for recursion\n",
    "\"\"\"\n",
    "def backward_chaining(goal, knowledge_base, visited=None):\n",
    "    # If KB is not horn, backward is useless\n",
    "    if knowledge_base.is_horn():\n",
    "        knowledge_base.horn_to_implication()\n",
    "    else:\n",
    "        return False\n",
    "    \n",
    "    if visited is None:\n",
    "        visited = set()\n",
    "\n",
    "    # In order to avoid loops\n",
    "    if goal in visited:\n",
    "        return False\n",
    "    \n",
    "    visited.add(goal)\n",
    "\n",
    "    # Check if the goal is already a known fact\n",
    "    facts = knowledge_base.extract_facts()\n",
    "    if goal in facts:\n",
    "        return True\n",
    "\n",
    "    # Check if goal is a conquent for any implication\n",
    "    for clause in knowledge_base.knowledge_base:\n",
    "        if isinstance(clause, Implies):\n",
    "            conclusion = clause.args[1]\n",
    "            premises = clause.args[0]\n",
    "            if conclusion == goal:\n",
    "                if isinstance(premises, Symbol):\n",
    "                    if backward_chaining(premises, knowledge_base, visited):\n",
    "                        return True\n",
    "                elif isinstance(premises, And):\n",
    "                    if all(backward_chaining(p, knowledge_base, visited) for p in premises.args):\n",
    "                        return True\n",
    "    return False\n",
    "\n",
    "# Usage\n",
    "\n",
    "rain, wetGrass, slippery, srpinkler = symbols(\"rain wetGrass slippery sprinkler\")\n",
    "\n",
    "KB = KB_class(\n",
    "    [rain, wetGrass, slippery, srpinkler],\n",
    "    Or(Not(rain), wetGrass),\n",
    "    Implies(srpinkler, wetGrass),\n",
    "    Implies(wetGrass, slippery),\n",
    "    rain\n",
    ")\n",
    "\n",
    "query = slippery\n",
    "\n",
    "print(\"Is alpha infered by KB?\")\n",
    "backward_chaining(query, KB)"
   ]
  },
  {
   "cell_type": "markdown",
   "id": "29076875",
   "metadata": {},
   "source": [
    "## External references\n",
    "\n",
    "[Sympy docs](https://docs.sympy.org/latest/tutorials/index.html)\n",
    "\n",
    "[Propositional logic by *Geeks for Geeks*](https://www.geeksforgeeks.org/proposition-logic/)\n",
    "\n",
    "ℹ️: A python source code which contains the implementation of all useful functions seen in this notebook is available in this project folder, in order to plug theese tools in others projects.\n",
    "\n",
    "## Author\n",
    "\n",
    "*Emilio Garzia, 2025*"
   ]
  }
 ],
 "metadata": {
  "kernelspec": {
   "display_name": "machine_learning",
   "language": "python",
   "name": "python3"
  },
  "language_info": {
   "codemirror_mode": {
    "name": "ipython",
    "version": 3
   },
   "file_extension": ".py",
   "mimetype": "text/x-python",
   "name": "python",
   "nbconvert_exporter": "python",
   "pygments_lexer": "ipython3",
   "version": "3.12.9"
  }
 },
 "nbformat": 4,
 "nbformat_minor": 5
}
